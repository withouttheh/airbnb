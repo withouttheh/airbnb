{
 "cells": [
  {
   "cell_type": "code",
   "execution_count": 49,
   "id": "99ae47b1-e70e-44bb-9a07-e59d36142547",
   "metadata": {},
   "outputs": [],
   "source": [
    "import numpy as np     \n",
    "import pandas as pd      \n",
    "import matplotlib.pyplot as plt   \n",
    "import seaborn as sns           \n",
    "\n",
    "# Statistical analysis\n",
    "import scipy.stats as stats\n",
    "\n",
    "# Jupyter Notebook magic commands for inline plotting\n",
    "%matplotlib inline\n",
    "%config InlineBackend.figure_format = 'retina'"
   ]
  },
  {
   "cell_type": "code",
   "execution_count": 264,
   "id": "76bd65f1-3289-40da-bf9a-ae1631f90433",
   "metadata": {},
   "outputs": [],
   "source": [
    "df = pd.read_csv('data/raw/listings.csv')"
   ]
  },
  {
   "cell_type": "code",
   "execution_count": 265,
   "id": "ef05bda6-9fa7-471a-b4ba-9a93bd4e25e2",
   "metadata": {},
   "outputs": [
    {
     "data": {
      "text/html": [
       "<div>\n",
       "<style scoped>\n",
       "    .dataframe tbody tr th:only-of-type {\n",
       "        vertical-align: middle;\n",
       "    }\n",
       "\n",
       "    .dataframe tbody tr th {\n",
       "        vertical-align: top;\n",
       "    }\n",
       "\n",
       "    .dataframe thead th {\n",
       "        text-align: right;\n",
       "    }\n",
       "</style>\n",
       "<table border=\"1\" class=\"dataframe\">\n",
       "  <thead>\n",
       "    <tr style=\"text-align: right;\">\n",
       "      <th></th>\n",
       "      <th>id</th>\n",
       "      <th>name</th>\n",
       "      <th>host_id</th>\n",
       "      <th>host_name</th>\n",
       "      <th>neighbourhood_group</th>\n",
       "      <th>neighbourhood</th>\n",
       "      <th>latitude</th>\n",
       "      <th>longitude</th>\n",
       "      <th>room_type</th>\n",
       "      <th>price</th>\n",
       "      <th>minimum_nights</th>\n",
       "      <th>number_of_reviews</th>\n",
       "      <th>last_review</th>\n",
       "      <th>reviews_per_month</th>\n",
       "      <th>calculated_host_listings_count</th>\n",
       "      <th>availability_365</th>\n",
       "      <th>number_of_reviews_ltm</th>\n",
       "      <th>license</th>\n",
       "    </tr>\n",
       "  </thead>\n",
       "  <tbody>\n",
       "    <tr>\n",
       "      <th>0</th>\n",
       "      <td>3191</td>\n",
       "      <td>Home in Southern Suburbs · ★4.81 · 1 bedroom ·...</td>\n",
       "      <td>3754</td>\n",
       "      <td>Brigitte</td>\n",
       "      <td>NaN</td>\n",
       "      <td>Ward 57</td>\n",
       "      <td>-33.947620</td>\n",
       "      <td>18.475990</td>\n",
       "      <td>Entire home/apt</td>\n",
       "      <td>650.0</td>\n",
       "      <td>3</td>\n",
       "      <td>75</td>\n",
       "      <td>2023-12-23</td>\n",
       "      <td>0.58</td>\n",
       "      <td>1</td>\n",
       "      <td>306</td>\n",
       "      <td>6</td>\n",
       "      <td>NaN</td>\n",
       "    </tr>\n",
       "    <tr>\n",
       "      <th>1</th>\n",
       "      <td>15007</td>\n",
       "      <td>Home in Cape Town · ★4.82 · 3 bedrooms · 4 bed...</td>\n",
       "      <td>59072</td>\n",
       "      <td>Dirk</td>\n",
       "      <td>NaN</td>\n",
       "      <td>Ward 23</td>\n",
       "      <td>-33.800010</td>\n",
       "      <td>18.460630</td>\n",
       "      <td>Entire home/apt</td>\n",
       "      <td>4029.0</td>\n",
       "      <td>2</td>\n",
       "      <td>45</td>\n",
       "      <td>2023-12-03</td>\n",
       "      <td>0.37</td>\n",
       "      <td>3</td>\n",
       "      <td>294</td>\n",
       "      <td>6</td>\n",
       "      <td>NaN</td>\n",
       "    </tr>\n",
       "    <tr>\n",
       "      <th>2</th>\n",
       "      <td>15068</td>\n",
       "      <td>Rental unit in Cape Town · 3 bedrooms · 5 beds...</td>\n",
       "      <td>59318</td>\n",
       "      <td>Linda</td>\n",
       "      <td>NaN</td>\n",
       "      <td>Ward 23</td>\n",
       "      <td>-33.788260</td>\n",
       "      <td>18.459400</td>\n",
       "      <td>Entire home/apt</td>\n",
       "      <td>2000.0</td>\n",
       "      <td>4</td>\n",
       "      <td>0</td>\n",
       "      <td>NaN</td>\n",
       "      <td>NaN</td>\n",
       "      <td>4</td>\n",
       "      <td>354</td>\n",
       "      <td>0</td>\n",
       "      <td>NaN</td>\n",
       "    </tr>\n",
       "    <tr>\n",
       "      <th>3</th>\n",
       "      <td>15077</td>\n",
       "      <td>Rental unit in Tableview - Sunset Beach · ★5.0...</td>\n",
       "      <td>59342</td>\n",
       "      <td>Georg</td>\n",
       "      <td>NaN</td>\n",
       "      <td>Ward 4</td>\n",
       "      <td>-33.858356</td>\n",
       "      <td>18.490376</td>\n",
       "      <td>Private room</td>\n",
       "      <td>2377.0</td>\n",
       "      <td>2</td>\n",
       "      <td>7</td>\n",
       "      <td>2022-06-16</td>\n",
       "      <td>0.05</td>\n",
       "      <td>6</td>\n",
       "      <td>83</td>\n",
       "      <td>0</td>\n",
       "      <td>NaN</td>\n",
       "    </tr>\n",
       "    <tr>\n",
       "      <th>4</th>\n",
       "      <td>15199</td>\n",
       "      <td>Rental unit in Cape Town · 1 bedroom · 1 bed ·...</td>\n",
       "      <td>59694</td>\n",
       "      <td>Alexa</td>\n",
       "      <td>NaN</td>\n",
       "      <td>Ward 115</td>\n",
       "      <td>-33.911150</td>\n",
       "      <td>18.412350</td>\n",
       "      <td>Entire home/apt</td>\n",
       "      <td>2500.0</td>\n",
       "      <td>14</td>\n",
       "      <td>2</td>\n",
       "      <td>2016-04-15</td>\n",
       "      <td>0.02</td>\n",
       "      <td>1</td>\n",
       "      <td>365</td>\n",
       "      <td>0</td>\n",
       "      <td>NaN</td>\n",
       "    </tr>\n",
       "  </tbody>\n",
       "</table>\n",
       "</div>"
      ],
      "text/plain": [
       "      id                                               name  host_id  \\\n",
       "0   3191  Home in Southern Suburbs · ★4.81 · 1 bedroom ·...     3754   \n",
       "1  15007  Home in Cape Town · ★4.82 · 3 bedrooms · 4 bed...    59072   \n",
       "2  15068  Rental unit in Cape Town · 3 bedrooms · 5 beds...    59318   \n",
       "3  15077  Rental unit in Tableview - Sunset Beach · ★5.0...    59342   \n",
       "4  15199  Rental unit in Cape Town · 1 bedroom · 1 bed ·...    59694   \n",
       "\n",
       "  host_name  neighbourhood_group neighbourhood   latitude  longitude  \\\n",
       "0  Brigitte                  NaN       Ward 57 -33.947620  18.475990   \n",
       "1      Dirk                  NaN       Ward 23 -33.800010  18.460630   \n",
       "2     Linda                  NaN       Ward 23 -33.788260  18.459400   \n",
       "3     Georg                  NaN        Ward 4 -33.858356  18.490376   \n",
       "4     Alexa                  NaN      Ward 115 -33.911150  18.412350   \n",
       "\n",
       "         room_type   price  minimum_nights  number_of_reviews last_review  \\\n",
       "0  Entire home/apt   650.0               3                 75  2023-12-23   \n",
       "1  Entire home/apt  4029.0               2                 45  2023-12-03   \n",
       "2  Entire home/apt  2000.0               4                  0         NaN   \n",
       "3     Private room  2377.0               2                  7  2022-06-16   \n",
       "4  Entire home/apt  2500.0              14                  2  2016-04-15   \n",
       "\n",
       "   reviews_per_month  calculated_host_listings_count  availability_365  \\\n",
       "0               0.58                               1               306   \n",
       "1               0.37                               3               294   \n",
       "2                NaN                               4               354   \n",
       "3               0.05                               6                83   \n",
       "4               0.02                               1               365   \n",
       "\n",
       "   number_of_reviews_ltm license  \n",
       "0                      6     NaN  \n",
       "1                      6     NaN  \n",
       "2                      0     NaN  \n",
       "3                      0     NaN  \n",
       "4                      0     NaN  "
      ]
     },
     "execution_count": 265,
     "metadata": {},
     "output_type": "execute_result"
    }
   ],
   "source": [
    "df.head()"
   ]
  },
  {
   "cell_type": "code",
   "execution_count": 266,
   "id": "d326fb41-c804-4f54-b664-461919b60974",
   "metadata": {},
   "outputs": [
    {
     "name": "stdout",
     "output_type": "stream",
     "text": [
      "<class 'pandas.core.frame.DataFrame'>\n",
      "RangeIndex: 22966 entries, 0 to 22965\n",
      "Data columns (total 18 columns):\n",
      " #   Column                          Non-Null Count  Dtype  \n",
      "---  ------                          --------------  -----  \n",
      " 0   id                              22966 non-null  int64  \n",
      " 1   name                            22966 non-null  object \n",
      " 2   host_id                         22966 non-null  int64  \n",
      " 3   host_name                       22962 non-null  object \n",
      " 4   neighbourhood_group             0 non-null      float64\n",
      " 5   neighbourhood                   22966 non-null  object \n",
      " 6   latitude                        22966 non-null  float64\n",
      " 7   longitude                       22966 non-null  float64\n",
      " 8   room_type                       22966 non-null  object \n",
      " 9   price                           21574 non-null  float64\n",
      " 10  minimum_nights                  22966 non-null  int64  \n",
      " 11  number_of_reviews               22966 non-null  int64  \n",
      " 12  last_review                     17202 non-null  object \n",
      " 13  reviews_per_month               17202 non-null  float64\n",
      " 14  calculated_host_listings_count  22966 non-null  int64  \n",
      " 15  availability_365                22966 non-null  int64  \n",
      " 16  number_of_reviews_ltm           22966 non-null  int64  \n",
      " 17  license                         75 non-null     object \n",
      "dtypes: float64(5), int64(7), object(6)\n",
      "memory usage: 3.2+ MB\n"
     ]
    }
   ],
   "source": [
    "df.info()"
   ]
  },
  {
   "cell_type": "code",
   "execution_count": 267,
   "id": "a5940131-8cbd-40cc-9fab-8720b4c694d5",
   "metadata": {},
   "outputs": [
    {
     "data": {
      "text/plain": [
       "Index(['id', 'name', 'host_id', 'host_name', 'neighbourhood_group',\n",
       "       'neighbourhood', 'latitude', 'longitude', 'room_type', 'price',\n",
       "       'minimum_nights', 'number_of_reviews', 'last_review',\n",
       "       'reviews_per_month', 'calculated_host_listings_count',\n",
       "       'availability_365', 'number_of_reviews_ltm', 'license'],\n",
       "      dtype='object')"
      ]
     },
     "execution_count": 267,
     "metadata": {},
     "output_type": "execute_result"
    }
   ],
   "source": [
    "df.columns"
   ]
  },
  {
   "cell_type": "markdown",
   "id": "2b7ef5be-90ac-43b5-b82f-02f6b4977faa",
   "metadata": {},
   "source": [
    "## Work on Property Type data:"
   ]
  },
  {
   "cell_type": "code",
   "execution_count": 268,
   "id": "d039ae8b-2d42-408e-81e5-08f6d92a2849",
   "metadata": {},
   "outputs": [],
   "source": [
    "# create property info dataframe\n",
    "\n",
    "df_prop_inf = pd.DataFrame()"
   ]
  },
  {
   "cell_type": "code",
   "execution_count": 269,
   "id": "2f651bb6-59f1-47ca-8f8f-c4abe618b803",
   "metadata": {},
   "outputs": [
    {
     "data": {
      "text/html": [
       "<div>\n",
       "<style scoped>\n",
       "    .dataframe tbody tr th:only-of-type {\n",
       "        vertical-align: middle;\n",
       "    }\n",
       "\n",
       "    .dataframe tbody tr th {\n",
       "        vertical-align: top;\n",
       "    }\n",
       "\n",
       "    .dataframe thead th {\n",
       "        text-align: right;\n",
       "    }\n",
       "</style>\n",
       "<table border=\"1\" class=\"dataframe\">\n",
       "  <thead>\n",
       "    <tr style=\"text-align: right;\">\n",
       "      <th></th>\n",
       "      <th>property type</th>\n",
       "      <th>rating</th>\n",
       "      <th>bedrooms</th>\n",
       "      <th>beds</th>\n",
       "      <th>baths</th>\n",
       "    </tr>\n",
       "  </thead>\n",
       "  <tbody>\n",
       "    <tr>\n",
       "      <th>0</th>\n",
       "      <td>Home in Southern Suburbs</td>\n",
       "      <td>★4.81</td>\n",
       "      <td>1 bedroom</td>\n",
       "      <td>1 bed</td>\n",
       "      <td>1 bath</td>\n",
       "    </tr>\n",
       "    <tr>\n",
       "      <th>1</th>\n",
       "      <td>Home in Cape Town</td>\n",
       "      <td>★4.82</td>\n",
       "      <td>3 bedrooms</td>\n",
       "      <td>4 beds</td>\n",
       "      <td>3 baths</td>\n",
       "    </tr>\n",
       "    <tr>\n",
       "      <th>2</th>\n",
       "      <td>Rental unit in Cape Town</td>\n",
       "      <td>3 bedrooms</td>\n",
       "      <td>5 beds</td>\n",
       "      <td>2 baths</td>\n",
       "      <td>None</td>\n",
       "    </tr>\n",
       "    <tr>\n",
       "      <th>3</th>\n",
       "      <td>Rental unit in Tableview - Sunset Beach</td>\n",
       "      <td>★5.0</td>\n",
       "      <td>1 bedroom</td>\n",
       "      <td>2 beds</td>\n",
       "      <td>1.5 baths</td>\n",
       "    </tr>\n",
       "    <tr>\n",
       "      <th>4</th>\n",
       "      <td>Rental unit in Cape Town</td>\n",
       "      <td>1 bedroom</td>\n",
       "      <td>1 bed</td>\n",
       "      <td>1 bath</td>\n",
       "      <td>None</td>\n",
       "    </tr>\n",
       "  </tbody>\n",
       "</table>\n",
       "</div>"
      ],
      "text/plain": [
       "                             property type      rating    bedrooms     beds  \\\n",
       "0                 Home in Southern Suburbs       ★4.81   1 bedroom    1 bed   \n",
       "1                        Home in Cape Town       ★4.82  3 bedrooms   4 beds   \n",
       "2                 Rental unit in Cape Town  3 bedrooms      5 beds  2 baths   \n",
       "3  Rental unit in Tableview - Sunset Beach        ★5.0   1 bedroom   2 beds   \n",
       "4                 Rental unit in Cape Town   1 bedroom       1 bed   1 bath   \n",
       "\n",
       "       baths  \n",
       "0     1 bath  \n",
       "1    3 baths  \n",
       "2       None  \n",
       "3  1.5 baths  \n",
       "4       None  "
      ]
     },
     "execution_count": 269,
     "metadata": {},
     "output_type": "execute_result"
    }
   ],
   "source": [
    "# split name column into five columns\n",
    "\n",
    "df_prop_inf[['property type', 'rating', 'bedrooms', 'beds', 'baths']] = df['name'].str.split(' · ', expand=True)\n",
    "df_prop_inf.head()"
   ]
  },
  {
   "cell_type": "code",
   "execution_count": 270,
   "id": "e010f398-47d7-4f92-9a03-413a67e2957d",
   "metadata": {},
   "outputs": [
    {
     "name": "stdout",
     "output_type": "stream",
     "text": [
      "Percentage of rows with 'in' in the 'property type' column: 100.0\n"
     ]
    }
   ],
   "source": [
    "# check if property type column only contains property type data \n",
    "\n",
    "percentage_with_in = (df_prop_inf['property type'].str.contains('in').sum() / len(df_prop_inf)) * 100\n",
    "\n",
    "print(\"Percentage of rows with 'in' in the 'property type' column:\", percentage_with_in)"
   ]
  },
  {
   "cell_type": "code",
   "execution_count": 271,
   "id": "b2a03174-775c-45f8-b1fc-864876c9575b",
   "metadata": {},
   "outputs": [
    {
     "data": {
      "text/html": [
       "<div>\n",
       "<style scoped>\n",
       "    .dataframe tbody tr th:only-of-type {\n",
       "        vertical-align: middle;\n",
       "    }\n",
       "\n",
       "    .dataframe tbody tr th {\n",
       "        vertical-align: top;\n",
       "    }\n",
       "\n",
       "    .dataframe thead th {\n",
       "        text-align: right;\n",
       "    }\n",
       "</style>\n",
       "<table border=\"1\" class=\"dataframe\">\n",
       "  <thead>\n",
       "    <tr style=\"text-align: right;\">\n",
       "      <th></th>\n",
       "      <th>0</th>\n",
       "      <th>1</th>\n",
       "      <th>2</th>\n",
       "    </tr>\n",
       "  </thead>\n",
       "  <tbody>\n",
       "    <tr>\n",
       "      <th>0</th>\n",
       "      <td>Home</td>\n",
       "      <td>Southern Suburbs</td>\n",
       "      <td>None</td>\n",
       "    </tr>\n",
       "    <tr>\n",
       "      <th>1</th>\n",
       "      <td>Home</td>\n",
       "      <td>Cape Town</td>\n",
       "      <td>None</td>\n",
       "    </tr>\n",
       "    <tr>\n",
       "      <th>2</th>\n",
       "      <td>Rental unit</td>\n",
       "      <td>Cape Town</td>\n",
       "      <td>None</td>\n",
       "    </tr>\n",
       "    <tr>\n",
       "      <th>3</th>\n",
       "      <td>Rental unit</td>\n",
       "      <td>Tableview - Sunset Beach</td>\n",
       "      <td>None</td>\n",
       "    </tr>\n",
       "    <tr>\n",
       "      <th>4</th>\n",
       "      <td>Rental unit</td>\n",
       "      <td>Cape Town</td>\n",
       "      <td>None</td>\n",
       "    </tr>\n",
       "  </tbody>\n",
       "</table>\n",
       "</div>"
      ],
      "text/plain": [
       "             0                         1     2\n",
       "0         Home          Southern Suburbs  None\n",
       "1         Home                 Cape Town  None\n",
       "2  Rental unit                 Cape Town  None\n",
       "3  Rental unit  Tableview - Sunset Beach  None\n",
       "4  Rental unit                 Cape Town  None"
      ]
     },
     "execution_count": 271,
     "metadata": {},
     "output_type": "execute_result"
    }
   ],
   "source": [
    "# isolate property type column for further cleaning by splitting the property type and area\n",
    "\n",
    "df_prop_inf_clean = df_prop_inf['property type'].str.split(' in ', expand=True)\n",
    "df_prop_inf_clean.head()"
   ]
  },
  {
   "cell_type": "code",
   "execution_count": 272,
   "id": "360ebf12-92b1-494a-811a-68af5d00a19b",
   "metadata": {
    "scrolled": true
   },
   "outputs": [
    {
     "data": {
      "text/html": [
       "<div>\n",
       "<style scoped>\n",
       "    .dataframe tbody tr th:only-of-type {\n",
       "        vertical-align: middle;\n",
       "    }\n",
       "\n",
       "    .dataframe tbody tr th {\n",
       "        vertical-align: top;\n",
       "    }\n",
       "\n",
       "    .dataframe thead th {\n",
       "        text-align: right;\n",
       "    }\n",
       "</style>\n",
       "<table border=\"1\" class=\"dataframe\">\n",
       "  <thead>\n",
       "    <tr style=\"text-align: right;\">\n",
       "      <th></th>\n",
       "      <th>0</th>\n",
       "      <th>1</th>\n",
       "      <th>2</th>\n",
       "    </tr>\n",
       "  </thead>\n",
       "  <tbody>\n",
       "    <tr>\n",
       "      <th>1920</th>\n",
       "      <td>Rental unit</td>\n",
       "      <td>Simon's Town</td>\n",
       "      <td>Cape Town</td>\n",
       "    </tr>\n",
       "  </tbody>\n",
       "</table>\n",
       "</div>"
      ],
      "text/plain": [
       "                0             1          2\n",
       "1920  Rental unit  Simon's Town  Cape Town"
      ]
     },
     "execution_count": 272,
     "metadata": {},
     "output_type": "execute_result"
    }
   ],
   "source": [
    "# check which row does not have null value because the 3rd column should not exist\n",
    "\n",
    "df_prop_inf_clean[df_prop_inf_clean.notna().all(axis=1)]"
   ]
  },
  {
   "cell_type": "code",
   "execution_count": 273,
   "id": "58e501a8-afdf-42bb-ae82-35bc8bd2600b",
   "metadata": {},
   "outputs": [
    {
     "data": {
      "text/plain": [
       "Series([], Name: count, dtype: int64)"
      ]
     },
     "execution_count": 273,
     "metadata": {},
     "output_type": "execute_result"
    }
   ],
   "source": [
    "# change all 3rd column values to None\n",
    "\n",
    "df_prop_inf_clean.loc[df_prop_inf_clean[2].notna(), 2] = None\n",
    "df_prop_inf_clean[2].value_counts()"
   ]
  },
  {
   "cell_type": "code",
   "execution_count": 274,
   "id": "12e76837-6427-46ad-92d1-d13cef009da3",
   "metadata": {},
   "outputs": [],
   "source": [
    "# drop third column\n",
    "\n",
    "df_prop_inf_clean = df_prop_inf_clean.drop(columns=[2])"
   ]
  },
  {
   "cell_type": "code",
   "execution_count": 275,
   "id": "49d074fe-bda2-498a-90b6-ed8537a7debb",
   "metadata": {},
   "outputs": [],
   "source": [
    "# change 2nd column values to 'Cape Town'\n",
    "\n",
    "df_prop_inf_clean[1] = 'Cape Town'"
   ]
  },
  {
   "cell_type": "code",
   "execution_count": 276,
   "id": "f3a629bc-101b-434f-a452-be4a51d13361",
   "metadata": {},
   "outputs": [
    {
     "data": {
      "text/html": [
       "<div>\n",
       "<style scoped>\n",
       "    .dataframe tbody tr th:only-of-type {\n",
       "        vertical-align: middle;\n",
       "    }\n",
       "\n",
       "    .dataframe tbody tr th {\n",
       "        vertical-align: top;\n",
       "    }\n",
       "\n",
       "    .dataframe thead th {\n",
       "        text-align: right;\n",
       "    }\n",
       "</style>\n",
       "<table border=\"1\" class=\"dataframe\">\n",
       "  <thead>\n",
       "    <tr style=\"text-align: right;\">\n",
       "      <th></th>\n",
       "      <th>property_type</th>\n",
       "      <th>city</th>\n",
       "    </tr>\n",
       "  </thead>\n",
       "  <tbody>\n",
       "    <tr>\n",
       "      <th>0</th>\n",
       "      <td>Home</td>\n",
       "      <td>Cape Town</td>\n",
       "    </tr>\n",
       "    <tr>\n",
       "      <th>1</th>\n",
       "      <td>Home</td>\n",
       "      <td>Cape Town</td>\n",
       "    </tr>\n",
       "    <tr>\n",
       "      <th>2</th>\n",
       "      <td>Rental unit</td>\n",
       "      <td>Cape Town</td>\n",
       "    </tr>\n",
       "    <tr>\n",
       "      <th>3</th>\n",
       "      <td>Rental unit</td>\n",
       "      <td>Cape Town</td>\n",
       "    </tr>\n",
       "    <tr>\n",
       "      <th>4</th>\n",
       "      <td>Rental unit</td>\n",
       "      <td>Cape Town</td>\n",
       "    </tr>\n",
       "  </tbody>\n",
       "</table>\n",
       "</div>"
      ],
      "text/plain": [
       "  property_type       city\n",
       "0          Home  Cape Town\n",
       "1          Home  Cape Town\n",
       "2   Rental unit  Cape Town\n",
       "3   Rental unit  Cape Town\n",
       "4   Rental unit  Cape Town"
      ]
     },
     "execution_count": 276,
     "metadata": {},
     "output_type": "execute_result"
    }
   ],
   "source": [
    "# change column names\n",
    "\n",
    "df_prop_inf_clean.columns = ['property_type', 'city']\n",
    "df_prop_inf_clean.head()"
   ]
  },
  {
   "cell_type": "code",
   "execution_count": 277,
   "id": "cb25a9e7-75c2-4bb9-8bdf-6a5a3bc626c2",
   "metadata": {},
   "outputs": [],
   "source": [
    "# remove the first column from df\n",
    "\n",
    "df_prop_inf = df_prop_inf.iloc[:, 1:]"
   ]
  },
  {
   "cell_type": "code",
   "execution_count": 278,
   "id": "e89896ca-db32-4c52-b12c-b0eb0d424acd",
   "metadata": {},
   "outputs": [
    {
     "data": {
      "text/html": [
       "<div>\n",
       "<style scoped>\n",
       "    .dataframe tbody tr th:only-of-type {\n",
       "        vertical-align: middle;\n",
       "    }\n",
       "\n",
       "    .dataframe tbody tr th {\n",
       "        vertical-align: top;\n",
       "    }\n",
       "\n",
       "    .dataframe thead th {\n",
       "        text-align: right;\n",
       "    }\n",
       "</style>\n",
       "<table border=\"1\" class=\"dataframe\">\n",
       "  <thead>\n",
       "    <tr style=\"text-align: right;\">\n",
       "      <th></th>\n",
       "      <th>rating</th>\n",
       "      <th>bedrooms</th>\n",
       "      <th>beds</th>\n",
       "      <th>baths</th>\n",
       "      <th>property_type</th>\n",
       "      <th>city</th>\n",
       "    </tr>\n",
       "  </thead>\n",
       "  <tbody>\n",
       "    <tr>\n",
       "      <th>0</th>\n",
       "      <td>★4.81</td>\n",
       "      <td>1 bedroom</td>\n",
       "      <td>1 bed</td>\n",
       "      <td>1 bath</td>\n",
       "      <td>Home</td>\n",
       "      <td>Cape Town</td>\n",
       "    </tr>\n",
       "    <tr>\n",
       "      <th>1</th>\n",
       "      <td>★4.82</td>\n",
       "      <td>3 bedrooms</td>\n",
       "      <td>4 beds</td>\n",
       "      <td>3 baths</td>\n",
       "      <td>Home</td>\n",
       "      <td>Cape Town</td>\n",
       "    </tr>\n",
       "    <tr>\n",
       "      <th>2</th>\n",
       "      <td>3 bedrooms</td>\n",
       "      <td>5 beds</td>\n",
       "      <td>2 baths</td>\n",
       "      <td>None</td>\n",
       "      <td>Rental unit</td>\n",
       "      <td>Cape Town</td>\n",
       "    </tr>\n",
       "    <tr>\n",
       "      <th>3</th>\n",
       "      <td>★5.0</td>\n",
       "      <td>1 bedroom</td>\n",
       "      <td>2 beds</td>\n",
       "      <td>1.5 baths</td>\n",
       "      <td>Rental unit</td>\n",
       "      <td>Cape Town</td>\n",
       "    </tr>\n",
       "    <tr>\n",
       "      <th>4</th>\n",
       "      <td>1 bedroom</td>\n",
       "      <td>1 bed</td>\n",
       "      <td>1 bath</td>\n",
       "      <td>None</td>\n",
       "      <td>Rental unit</td>\n",
       "      <td>Cape Town</td>\n",
       "    </tr>\n",
       "  </tbody>\n",
       "</table>\n",
       "</div>"
      ],
      "text/plain": [
       "       rating    bedrooms     beds      baths property_type       city\n",
       "0       ★4.81   1 bedroom    1 bed     1 bath          Home  Cape Town\n",
       "1       ★4.82  3 bedrooms   4 beds    3 baths          Home  Cape Town\n",
       "2  3 bedrooms      5 beds  2 baths       None   Rental unit  Cape Town\n",
       "3        ★5.0   1 bedroom   2 beds  1.5 baths   Rental unit  Cape Town\n",
       "4   1 bedroom       1 bed   1 bath       None   Rental unit  Cape Town"
      ]
     },
     "execution_count": 278,
     "metadata": {},
     "output_type": "execute_result"
    }
   ],
   "source": [
    "# add clean property type and city columns to property info df\n",
    "\n",
    "df_prop_inf['property_type'] = df_prop_inf_clean['property_type']\n",
    "df_prop_inf['city'] = df_prop_inf_clean['city']\n",
    "\n",
    "df_prop_inf.head()"
   ]
  },
  {
   "cell_type": "code",
   "execution_count": 279,
   "id": "c998c104-48cf-43ce-8538-306ca0bdacf8",
   "metadata": {
    "scrolled": true
   },
   "outputs": [],
   "source": [
    "df[['property_type', 'city']] = df_prop_inf[['property_type', 'city']]"
   ]
  },
  {
   "cell_type": "code",
   "execution_count": 280,
   "id": "99556a02-90d4-4849-a6b1-e68368779f28",
   "metadata": {},
   "outputs": [
    {
     "data": {
      "text/plain": [
       "Index(['id', 'name', 'host_id', 'host_name', 'neighbourhood_group',\n",
       "       'neighbourhood', 'latitude', 'longitude', 'room_type', 'price',\n",
       "       'minimum_nights', 'number_of_reviews', 'last_review',\n",
       "       'reviews_per_month', 'calculated_host_listings_count',\n",
       "       'availability_365', 'number_of_reviews_ltm', 'license', 'property_type',\n",
       "       'city'],\n",
       "      dtype='object')"
      ]
     },
     "execution_count": 280,
     "metadata": {},
     "output_type": "execute_result"
    }
   ],
   "source": [
    "df.columns"
   ]
  },
  {
   "cell_type": "markdown",
   "id": "e7cee940-b1e1-4fbf-81be-83c065b7f72d",
   "metadata": {},
   "source": [
    "## Work on ratings column"
   ]
  },
  {
   "cell_type": "code",
   "execution_count": 281,
   "id": "8c22487d-9485-4f72-b18a-248a6ef71988",
   "metadata": {},
   "outputs": [],
   "source": [
    "# create ratings dataframe\n",
    "\n",
    "df_ratings = pd.DataFrame()"
   ]
  },
  {
   "cell_type": "code",
   "execution_count": 282,
   "id": "152d5d75-93c1-47c9-b75e-aaee9559c938",
   "metadata": {},
   "outputs": [
    {
     "data": {
      "text/html": [
       "<div>\n",
       "<style scoped>\n",
       "    .dataframe tbody tr th:only-of-type {\n",
       "        vertical-align: middle;\n",
       "    }\n",
       "\n",
       "    .dataframe tbody tr th {\n",
       "        vertical-align: top;\n",
       "    }\n",
       "\n",
       "    .dataframe thead th {\n",
       "        text-align: right;\n",
       "    }\n",
       "</style>\n",
       "<table border=\"1\" class=\"dataframe\">\n",
       "  <thead>\n",
       "    <tr style=\"text-align: right;\">\n",
       "      <th></th>\n",
       "    </tr>\n",
       "  </thead>\n",
       "  <tbody>\n",
       "  </tbody>\n",
       "</table>\n",
       "</div>"
      ],
      "text/plain": [
       "Empty DataFrame\n",
       "Columns: []\n",
       "Index: []"
      ]
     },
     "execution_count": 282,
     "metadata": {},
     "output_type": "execute_result"
    }
   ],
   "source": [
    "df_ratings.head()"
   ]
  },
  {
   "cell_type": "code",
   "execution_count": 283,
   "id": "e44dbafb-b627-4588-a1ed-73dd0ee6b6ac",
   "metadata": {
    "scrolled": true
   },
   "outputs": [
    {
     "data": {
      "text/plain": [
       "0         ★4.81\n",
       "1         ★4.82\n",
       "2    3 bedrooms\n",
       "3          ★5.0\n",
       "4     1 bedroom\n",
       "Name: rating, dtype: object"
      ]
     },
     "execution_count": 283,
     "metadata": {},
     "output_type": "execute_result"
    }
   ],
   "source": [
    "# populate with ratings column from original dataframe\n",
    "\n",
    "df_ratings = df_prop_inf['rating'].copy()\n",
    "df_ratings.head()"
   ]
  },
  {
   "cell_type": "code",
   "execution_count": 285,
   "id": "2010a16c-27a7-4565-b37b-470b846d3b9d",
   "metadata": {},
   "outputs": [],
   "source": [
    "#if the value does not contain a star, change it to No Rating\n",
    "\n",
    "df_ratings[df_ratings.str.contains('★') == False ] = 'No rating'"
   ]
  },
  {
   "cell_type": "code",
   "execution_count": 287,
   "id": "30718eb1-4860-4df8-9693-9faf494aeee1",
   "metadata": {},
   "outputs": [
    {
     "data": {
      "text/plain": [
       "rating\n",
       "No rating    7288\n",
       "★5.0         2939\n",
       "★New         2051\n",
       "★4.67         474\n",
       "★4.80         390\n",
       "             ... \n",
       "★3.17           1\n",
       "★2.60           1\n",
       "★4.02           1\n",
       "★3.93           1\n",
       "★2.67           1\n",
       "Name: count, Length: 154, dtype: int64"
      ]
     },
     "execution_count": 287,
     "metadata": {},
     "output_type": "execute_result"
    }
   ],
   "source": [
    "# check changes \n",
    "\n",
    "df_ratings.value_counts()"
   ]
  },
  {
   "cell_type": "code",
   "execution_count": 288,
   "id": "bbd870e6-8dc6-43b8-9bcb-3986f1140ab4",
   "metadata": {},
   "outputs": [],
   "source": [
    "# if value contains the string New, change it to No Rating\n",
    "\n",
    "df_ratings[df_ratings.str.contains('New') == True ] = 'No rating'"
   ]
  },
  {
   "cell_type": "code",
   "execution_count": 289,
   "id": "a79c54a8-e539-4f2d-8504-f405b153764f",
   "metadata": {},
   "outputs": [
    {
     "data": {
      "text/plain": [
       "rating\n",
       "No rating    9339\n",
       "★5.0         2939\n",
       "★4.67         474\n",
       "★4.80         390\n",
       "★4.88         388\n",
       "             ... \n",
       "★3.17           1\n",
       "★2.60           1\n",
       "★4.02           1\n",
       "★3.93           1\n",
       "★2.67           1\n",
       "Name: count, Length: 153, dtype: int64"
      ]
     },
     "execution_count": 289,
     "metadata": {},
     "output_type": "execute_result"
    }
   ],
   "source": [
    "# check changes\n",
    "\n",
    "df_ratings.value_counts()"
   ]
  },
  {
   "cell_type": "code",
   "execution_count": 290,
   "id": "c445bf94-6512-45dd-bf3a-34c5802d05d8",
   "metadata": {},
   "outputs": [
    {
     "data": {
      "text/plain": [
       "0         4.81\n",
       "1         4.82\n",
       "2    No rating\n",
       "3          5.0\n",
       "4    No rating\n",
       "Name: rating, dtype: object"
      ]
     },
     "execution_count": 290,
     "metadata": {},
     "output_type": "execute_result"
    }
   ],
   "source": [
    "# remove the star\n",
    "\n",
    "df_ratings.loc[df_ratings.str.contains('.')] = df_ratings.str.replace('★', '')\n",
    "df_ratings.head()"
   ]
  },
  {
   "cell_type": "code",
   "execution_count": 291,
   "id": "3ae43877-9f7b-4c63-b012-051ba48858a8",
   "metadata": {},
   "outputs": [
    {
     "data": {
      "text/plain": [
       "0    4.81\n",
       "1    4.82\n",
       "2     NaN\n",
       "3     5.0\n",
       "4     NaN\n",
       "Name: rating, dtype: object"
      ]
     },
     "execution_count": 291,
     "metadata": {},
     "output_type": "execute_result"
    }
   ],
   "source": [
    "#repplace No rating with NaN\n",
    "\n",
    "df_ratings.replace('No rating', np.nan, inplace=True)\n",
    "df_ratings.head()"
   ]
  },
  {
   "cell_type": "code",
   "execution_count": 292,
   "id": "5e3d3044-a19f-4eda-be50-5a8deba6cf7c",
   "metadata": {},
   "outputs": [
    {
     "name": "stdout",
     "output_type": "stream",
     "text": [
      "<class 'pandas.core.series.Series'>\n",
      "RangeIndex: 22966 entries, 0 to 22965\n",
      "Series name: rating\n",
      "Non-Null Count  Dtype  \n",
      "--------------  -----  \n",
      "13627 non-null  float64\n",
      "dtypes: float64(1)\n",
      "memory usage: 179.6 KB\n"
     ]
    }
   ],
   "source": [
    "df_ratings = df_ratings.astype(float)\n",
    "df_ratings.info()"
   ]
  },
  {
   "cell_type": "code",
   "execution_count": 293,
   "id": "c506e039-fa42-41ff-9b25-9f82603e4dfe",
   "metadata": {},
   "outputs": [],
   "source": [
    "df['rating'] = df_ratings"
   ]
  },
  {
   "cell_type": "code",
   "execution_count": 294,
   "id": "b45976dd-d30f-4386-9a3a-8e6e0c518eec",
   "metadata": {},
   "outputs": [
    {
     "data": {
      "text/plain": [
       "<bound method Series.info of 0        4.81\n",
       "1        4.82\n",
       "2         NaN\n",
       "3        5.00\n",
       "4         NaN\n",
       "         ... \n",
       "22961     NaN\n",
       "22962     NaN\n",
       "22963     NaN\n",
       "22964     NaN\n",
       "22965     NaN\n",
       "Name: rating, Length: 22966, dtype: float64>"
      ]
     },
     "execution_count": 294,
     "metadata": {},
     "output_type": "execute_result"
    }
   ],
   "source": [
    "df['rating'].info"
   ]
  },
  {
   "cell_type": "markdown",
   "id": "b6a7f7ef-b1d7-4497-9840-0072aec3259c",
   "metadata": {},
   "source": [
    "## Working on bedroom column"
   ]
  },
  {
   "cell_type": "code",
   "execution_count": 296,
   "id": "3e6cebe9-3327-430a-8b5a-32e09a9a3f4b",
   "metadata": {},
   "outputs": [],
   "source": [
    "df_bedrooms = pd.DataFrame()"
   ]
  },
  {
   "cell_type": "code",
   "execution_count": 298,
   "id": "475eb34d-a6ec-453d-8b1f-b3ed43e05e61",
   "metadata": {},
   "outputs": [
    {
     "data": {
      "text/html": [
       "<div>\n",
       "<style scoped>\n",
       "    .dataframe tbody tr th:only-of-type {\n",
       "        vertical-align: middle;\n",
       "    }\n",
       "\n",
       "    .dataframe tbody tr th {\n",
       "        vertical-align: top;\n",
       "    }\n",
       "\n",
       "    .dataframe thead th {\n",
       "        text-align: right;\n",
       "    }\n",
       "</style>\n",
       "<table border=\"1\" class=\"dataframe\">\n",
       "  <thead>\n",
       "    <tr style=\"text-align: right;\">\n",
       "      <th></th>\n",
       "      <th>rating</th>\n",
       "      <th>bedrooms</th>\n",
       "    </tr>\n",
       "  </thead>\n",
       "  <tbody>\n",
       "    <tr>\n",
       "      <th>0</th>\n",
       "      <td>★4.81</td>\n",
       "      <td>1 bedroom</td>\n",
       "    </tr>\n",
       "    <tr>\n",
       "      <th>1</th>\n",
       "      <td>★4.82</td>\n",
       "      <td>3 bedrooms</td>\n",
       "    </tr>\n",
       "    <tr>\n",
       "      <th>2</th>\n",
       "      <td>3 bedrooms</td>\n",
       "      <td>5 beds</td>\n",
       "    </tr>\n",
       "    <tr>\n",
       "      <th>3</th>\n",
       "      <td>★5.0</td>\n",
       "      <td>1 bedroom</td>\n",
       "    </tr>\n",
       "    <tr>\n",
       "      <th>4</th>\n",
       "      <td>1 bedroom</td>\n",
       "      <td>1 bed</td>\n",
       "    </tr>\n",
       "  </tbody>\n",
       "</table>\n",
       "</div>"
      ],
      "text/plain": [
       "       rating    bedrooms\n",
       "0       ★4.81   1 bedroom\n",
       "1       ★4.82  3 bedrooms\n",
       "2  3 bedrooms      5 beds\n",
       "3        ★5.0   1 bedroom\n",
       "4   1 bedroom       1 bed"
      ]
     },
     "execution_count": 298,
     "metadata": {},
     "output_type": "execute_result"
    }
   ],
   "source": [
    "df_bedrooms = df_prop_inf[['rating', 'bedrooms']].copy()\n",
    "df_bedrooms.head()"
   ]
  },
  {
   "cell_type": "code",
   "execution_count": 301,
   "id": "a280b7ff-75e6-4e8f-9891-9fa301fb1517",
   "metadata": {},
   "outputs": [],
   "source": [
    "def assign_bedrooms(row):\n",
    "    if 'bedroom' in row['rating']:\n",
    "        return row['rating']\n",
    "    else:\n",
    "        return row['bedrooms']\n",
    "\n",
    "# Apply the custom function to each row of the DataFrame\n",
    "df_bedrooms['bedrooms'] = df_bedrooms.apply(assign_bedrooms, axis=1)"
   ]
  },
  {
   "cell_type": "code",
   "execution_count": 304,
   "id": "c5c3de05-da65-46ab-9759-a7c979057d1a",
   "metadata": {},
   "outputs": [
    {
     "data": {
      "text/plain": [
       "0         1 bedroom\n",
       "1        3 bedrooms\n",
       "2        3 bedrooms\n",
       "3         1 bedroom\n",
       "4         1 bedroom\n",
       "            ...    \n",
       "22961    2 bedrooms\n",
       "22962     1 bedroom\n",
       "22963     1 bedroom\n",
       "22964     1 bedroom\n",
       "22965     1 bedroom\n",
       "Name: bedrooms, Length: 22966, dtype: object"
      ]
     },
     "execution_count": 304,
     "metadata": {},
     "output_type": "execute_result"
    }
   ],
   "source": [
    "df_bedrooms['bedrooms']"
   ]
  },
  {
   "cell_type": "code",
   "execution_count": 305,
   "id": "4bd7f762-015c-4d50-98fb-feef30aaea1b",
   "metadata": {},
   "outputs": [],
   "source": [
    "df['bedrooms'] = df_bedrooms['bedrooms']"
   ]
  },
  {
   "cell_type": "code",
   "execution_count": 306,
   "id": "bb7fa896-ba07-403b-8e1a-91ea2abac405",
   "metadata": {
    "scrolled": true
   },
   "outputs": [
    {
     "data": {
      "text/plain": [
       "Index(['id', 'name', 'host_id', 'host_name', 'neighbourhood_group',\n",
       "       'neighbourhood', 'latitude', 'longitude', 'room_type', 'price',\n",
       "       'minimum_nights', 'number_of_reviews', 'last_review',\n",
       "       'reviews_per_month', 'calculated_host_listings_count',\n",
       "       'availability_365', 'number_of_reviews_ltm', 'license', 'property_type',\n",
       "       'city', 'rating', 'bedrooms'],\n",
       "      dtype='object')"
      ]
     },
     "execution_count": 306,
     "metadata": {},
     "output_type": "execute_result"
    }
   ],
   "source": [
    "df.columns"
   ]
  },
  {
   "cell_type": "markdown",
   "id": "6c523bfe-3fff-48b6-9538-c8c03e065c86",
   "metadata": {},
   "source": [
    "## Working on beds column"
   ]
  },
  {
   "cell_type": "code",
   "execution_count": 307,
   "id": "f45ef01d-1918-4a18-ad8a-f0f41693ef62",
   "metadata": {},
   "outputs": [],
   "source": [
    "df_beds = pd.DataFrame()"
   ]
  },
  {
   "cell_type": "code",
   "execution_count": 308,
   "id": "4716265c-f825-4c6a-a407-2d7c5849bdb7",
   "metadata": {},
   "outputs": [
    {
     "data": {
      "text/html": [
       "<div>\n",
       "<style scoped>\n",
       "    .dataframe tbody tr th:only-of-type {\n",
       "        vertical-align: middle;\n",
       "    }\n",
       "\n",
       "    .dataframe tbody tr th {\n",
       "        vertical-align: top;\n",
       "    }\n",
       "\n",
       "    .dataframe thead th {\n",
       "        text-align: right;\n",
       "    }\n",
       "</style>\n",
       "<table border=\"1\" class=\"dataframe\">\n",
       "  <thead>\n",
       "    <tr style=\"text-align: right;\">\n",
       "      <th></th>\n",
       "      <th>bedrooms</th>\n",
       "      <th>beds</th>\n",
       "    </tr>\n",
       "  </thead>\n",
       "  <tbody>\n",
       "    <tr>\n",
       "      <th>0</th>\n",
       "      <td>1 bedroom</td>\n",
       "      <td>1 bed</td>\n",
       "    </tr>\n",
       "    <tr>\n",
       "      <th>1</th>\n",
       "      <td>3 bedrooms</td>\n",
       "      <td>4 beds</td>\n",
       "    </tr>\n",
       "    <tr>\n",
       "      <th>2</th>\n",
       "      <td>5 beds</td>\n",
       "      <td>2 baths</td>\n",
       "    </tr>\n",
       "    <tr>\n",
       "      <th>3</th>\n",
       "      <td>1 bedroom</td>\n",
       "      <td>2 beds</td>\n",
       "    </tr>\n",
       "    <tr>\n",
       "      <th>4</th>\n",
       "      <td>1 bed</td>\n",
       "      <td>1 bath</td>\n",
       "    </tr>\n",
       "  </tbody>\n",
       "</table>\n",
       "</div>"
      ],
      "text/plain": [
       "     bedrooms     beds\n",
       "0   1 bedroom    1 bed\n",
       "1  3 bedrooms   4 beds\n",
       "2      5 beds  2 baths\n",
       "3   1 bedroom   2 beds\n",
       "4       1 bed   1 bath"
      ]
     },
     "execution_count": 308,
     "metadata": {},
     "output_type": "execute_result"
    }
   ],
   "source": [
    "df_bed = df_prop_inf[['bedrooms', 'beds']].copy()\n",
    "df_bed.head()"
   ]
  },
  {
   "cell_type": "code",
   "execution_count": null,
   "id": "790d07ba-fe90-4b75-9cf6-51fdcaab4875",
   "metadata": {},
   "outputs": [],
   "source": []
  }
 ],
 "metadata": {
  "kernelspec": {
   "display_name": "Python 3 (ipykernel)",
   "language": "python",
   "name": "python3"
  },
  "language_info": {
   "codemirror_mode": {
    "name": "ipython",
    "version": 3
   },
   "file_extension": ".py",
   "mimetype": "text/x-python",
   "name": "python",
   "nbconvert_exporter": "python",
   "pygments_lexer": "ipython3",
   "version": "3.11.5"
  }
 },
 "nbformat": 4,
 "nbformat_minor": 5
}
