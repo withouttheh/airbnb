{
 "cells": [
  {
   "cell_type": "markdown",
   "id": "8036274f-3296-46dd-8973-010ded4a1106",
   "metadata": {},
   "source": [
    "# Introduction:\n",
    "\n",
    "This Jupyter Notebook explores a dataset containing information about Airbnb listings in Cape Town. The dataset comprises various attributes such as listing ID, host details, geographical coordinates, room type, pricing, availability, and review-related metrics. With over 22,000 entries and 18 columns, the dataset offers a comprehensive overview of the Airbnb market in Cape Town.\n",
    "\n",
    "In this project, we aim to analyze and understand the dynamics of the Airbnb market in Cape Town. By leveraging the power of Python and the Pandas library, we will delve into the dataset to uncover insights, trends, and patterns that can provide valuable information for both hosts and guests alike.\n",
    "\n",
    "Our analysis will cover a wide range of aspects, including pricing trends, popularity of room types, host behaviors, geographical distribution of listings, and more. Through exploratory data analysis (EDA), visualization, and statistical techniques, we will gain deeper insights into the Airbnb ecosystem in the area.\n",
    "\n",
    "Ultimately, this project seeks to offer actionable insights and recommendations for various stakeholders, including Airbnb hosts, prospective guests, and policymakers, to make informed decisions and enhance their experiences within the Airbnb community."
   ]
  },
  {
   "cell_type": "code",
   "execution_count": 271,
   "id": "99ae47b1-e70e-44bb-9a07-e59d36142547",
   "metadata": {},
   "outputs": [],
   "source": [
    "import numpy as np     \n",
    "import pandas as pd      \n",
    "import matplotlib.pyplot as plt   \n",
    "import seaborn as sns \n",
    "import re\n",
    "\n",
    "# Statistical analysis\n",
    "import scipy.stats as stats\n",
    "\n",
    "# Jupyter Notebook magic commands for inline plotting\n",
    "%matplotlib inline\n",
    "%config InlineBackend.figure_format = 'retina'"
   ]
  },
  {
   "cell_type": "code",
   "execution_count": 272,
   "id": "76bd65f1-3289-40da-bf9a-ae1631f90433",
   "metadata": {},
   "outputs": [],
   "source": [
    "df = pd.read_csv('data/raw/listings.csv')"
   ]
  },
  {
   "cell_type": "markdown",
   "id": "a639ddb1-ba9d-4484-865e-3eb68ec76b9a",
   "metadata": {},
   "source": [
    "### Understanding the data"
   ]
  },
  {
   "cell_type": "code",
   "execution_count": 273,
   "id": "ef05bda6-9fa7-471a-b4ba-9a93bd4e25e2",
   "metadata": {},
   "outputs": [
    {
     "data": {
      "text/html": [
       "<div>\n",
       "<style scoped>\n",
       "    .dataframe tbody tr th:only-of-type {\n",
       "        vertical-align: middle;\n",
       "    }\n",
       "\n",
       "    .dataframe tbody tr th {\n",
       "        vertical-align: top;\n",
       "    }\n",
       "\n",
       "    .dataframe thead th {\n",
       "        text-align: right;\n",
       "    }\n",
       "</style>\n",
       "<table border=\"1\" class=\"dataframe\">\n",
       "  <thead>\n",
       "    <tr style=\"text-align: right;\">\n",
       "      <th></th>\n",
       "      <th>id</th>\n",
       "      <th>name</th>\n",
       "      <th>host_id</th>\n",
       "      <th>host_name</th>\n",
       "      <th>neighbourhood_group</th>\n",
       "      <th>neighbourhood</th>\n",
       "      <th>latitude</th>\n",
       "      <th>longitude</th>\n",
       "      <th>room_type</th>\n",
       "      <th>price</th>\n",
       "      <th>minimum_nights</th>\n",
       "      <th>number_of_reviews</th>\n",
       "      <th>last_review</th>\n",
       "      <th>reviews_per_month</th>\n",
       "      <th>calculated_host_listings_count</th>\n",
       "      <th>availability_365</th>\n",
       "      <th>number_of_reviews_ltm</th>\n",
       "      <th>license</th>\n",
       "    </tr>\n",
       "  </thead>\n",
       "  <tbody>\n",
       "    <tr>\n",
       "      <th>0</th>\n",
       "      <td>3191</td>\n",
       "      <td>Home in Southern Suburbs · ★4.81 · 1 bedroom ·...</td>\n",
       "      <td>3754</td>\n",
       "      <td>Brigitte</td>\n",
       "      <td>NaN</td>\n",
       "      <td>Ward 57</td>\n",
       "      <td>-33.947620</td>\n",
       "      <td>18.475990</td>\n",
       "      <td>Entire home/apt</td>\n",
       "      <td>650.0</td>\n",
       "      <td>3</td>\n",
       "      <td>75</td>\n",
       "      <td>2023-12-23</td>\n",
       "      <td>0.58</td>\n",
       "      <td>1</td>\n",
       "      <td>306</td>\n",
       "      <td>6</td>\n",
       "      <td>NaN</td>\n",
       "    </tr>\n",
       "    <tr>\n",
       "      <th>1</th>\n",
       "      <td>15007</td>\n",
       "      <td>Home in Cape Town · ★4.82 · 3 bedrooms · 4 bed...</td>\n",
       "      <td>59072</td>\n",
       "      <td>Dirk</td>\n",
       "      <td>NaN</td>\n",
       "      <td>Ward 23</td>\n",
       "      <td>-33.800010</td>\n",
       "      <td>18.460630</td>\n",
       "      <td>Entire home/apt</td>\n",
       "      <td>4029.0</td>\n",
       "      <td>2</td>\n",
       "      <td>45</td>\n",
       "      <td>2023-12-03</td>\n",
       "      <td>0.37</td>\n",
       "      <td>3</td>\n",
       "      <td>294</td>\n",
       "      <td>6</td>\n",
       "      <td>NaN</td>\n",
       "    </tr>\n",
       "    <tr>\n",
       "      <th>2</th>\n",
       "      <td>15068</td>\n",
       "      <td>Rental unit in Cape Town · 3 bedrooms · 5 beds...</td>\n",
       "      <td>59318</td>\n",
       "      <td>Linda</td>\n",
       "      <td>NaN</td>\n",
       "      <td>Ward 23</td>\n",
       "      <td>-33.788260</td>\n",
       "      <td>18.459400</td>\n",
       "      <td>Entire home/apt</td>\n",
       "      <td>2000.0</td>\n",
       "      <td>4</td>\n",
       "      <td>0</td>\n",
       "      <td>NaN</td>\n",
       "      <td>NaN</td>\n",
       "      <td>4</td>\n",
       "      <td>354</td>\n",
       "      <td>0</td>\n",
       "      <td>NaN</td>\n",
       "    </tr>\n",
       "    <tr>\n",
       "      <th>3</th>\n",
       "      <td>15077</td>\n",
       "      <td>Rental unit in Tableview - Sunset Beach · ★5.0...</td>\n",
       "      <td>59342</td>\n",
       "      <td>Georg</td>\n",
       "      <td>NaN</td>\n",
       "      <td>Ward 4</td>\n",
       "      <td>-33.858356</td>\n",
       "      <td>18.490376</td>\n",
       "      <td>Private room</td>\n",
       "      <td>2377.0</td>\n",
       "      <td>2</td>\n",
       "      <td>7</td>\n",
       "      <td>2022-06-16</td>\n",
       "      <td>0.05</td>\n",
       "      <td>6</td>\n",
       "      <td>83</td>\n",
       "      <td>0</td>\n",
       "      <td>NaN</td>\n",
       "    </tr>\n",
       "    <tr>\n",
       "      <th>4</th>\n",
       "      <td>15199</td>\n",
       "      <td>Rental unit in Cape Town · 1 bedroom · 1 bed ·...</td>\n",
       "      <td>59694</td>\n",
       "      <td>Alexa</td>\n",
       "      <td>NaN</td>\n",
       "      <td>Ward 115</td>\n",
       "      <td>-33.911150</td>\n",
       "      <td>18.412350</td>\n",
       "      <td>Entire home/apt</td>\n",
       "      <td>2500.0</td>\n",
       "      <td>14</td>\n",
       "      <td>2</td>\n",
       "      <td>2016-04-15</td>\n",
       "      <td>0.02</td>\n",
       "      <td>1</td>\n",
       "      <td>365</td>\n",
       "      <td>0</td>\n",
       "      <td>NaN</td>\n",
       "    </tr>\n",
       "  </tbody>\n",
       "</table>\n",
       "</div>"
      ],
      "text/plain": [
       "      id                                               name  host_id  \\\n",
       "0   3191  Home in Southern Suburbs · ★4.81 · 1 bedroom ·...     3754   \n",
       "1  15007  Home in Cape Town · ★4.82 · 3 bedrooms · 4 bed...    59072   \n",
       "2  15068  Rental unit in Cape Town · 3 bedrooms · 5 beds...    59318   \n",
       "3  15077  Rental unit in Tableview - Sunset Beach · ★5.0...    59342   \n",
       "4  15199  Rental unit in Cape Town · 1 bedroom · 1 bed ·...    59694   \n",
       "\n",
       "  host_name  neighbourhood_group neighbourhood   latitude  longitude  \\\n",
       "0  Brigitte                  NaN       Ward 57 -33.947620  18.475990   \n",
       "1      Dirk                  NaN       Ward 23 -33.800010  18.460630   \n",
       "2     Linda                  NaN       Ward 23 -33.788260  18.459400   \n",
       "3     Georg                  NaN        Ward 4 -33.858356  18.490376   \n",
       "4     Alexa                  NaN      Ward 115 -33.911150  18.412350   \n",
       "\n",
       "         room_type   price  minimum_nights  number_of_reviews last_review  \\\n",
       "0  Entire home/apt   650.0               3                 75  2023-12-23   \n",
       "1  Entire home/apt  4029.0               2                 45  2023-12-03   \n",
       "2  Entire home/apt  2000.0               4                  0         NaN   \n",
       "3     Private room  2377.0               2                  7  2022-06-16   \n",
       "4  Entire home/apt  2500.0              14                  2  2016-04-15   \n",
       "\n",
       "   reviews_per_month  calculated_host_listings_count  availability_365  \\\n",
       "0               0.58                               1               306   \n",
       "1               0.37                               3               294   \n",
       "2                NaN                               4               354   \n",
       "3               0.05                               6                83   \n",
       "4               0.02                               1               365   \n",
       "\n",
       "   number_of_reviews_ltm license  \n",
       "0                      6     NaN  \n",
       "1                      6     NaN  \n",
       "2                      0     NaN  \n",
       "3                      0     NaN  \n",
       "4                      0     NaN  "
      ]
     },
     "execution_count": 273,
     "metadata": {},
     "output_type": "execute_result"
    }
   ],
   "source": [
    "df.head()"
   ]
  },
  {
   "cell_type": "code",
   "execution_count": 274,
   "id": "d326fb41-c804-4f54-b664-461919b60974",
   "metadata": {},
   "outputs": [
    {
     "name": "stdout",
     "output_type": "stream",
     "text": [
      "<class 'pandas.core.frame.DataFrame'>\n",
      "RangeIndex: 22966 entries, 0 to 22965\n",
      "Data columns (total 18 columns):\n",
      " #   Column                          Non-Null Count  Dtype  \n",
      "---  ------                          --------------  -----  \n",
      " 0   id                              22966 non-null  int64  \n",
      " 1   name                            22966 non-null  object \n",
      " 2   host_id                         22966 non-null  int64  \n",
      " 3   host_name                       22962 non-null  object \n",
      " 4   neighbourhood_group             0 non-null      float64\n",
      " 5   neighbourhood                   22966 non-null  object \n",
      " 6   latitude                        22966 non-null  float64\n",
      " 7   longitude                       22966 non-null  float64\n",
      " 8   room_type                       22966 non-null  object \n",
      " 9   price                           21574 non-null  float64\n",
      " 10  minimum_nights                  22966 non-null  int64  \n",
      " 11  number_of_reviews               22966 non-null  int64  \n",
      " 12  last_review                     17202 non-null  object \n",
      " 13  reviews_per_month               17202 non-null  float64\n",
      " 14  calculated_host_listings_count  22966 non-null  int64  \n",
      " 15  availability_365                22966 non-null  int64  \n",
      " 16  number_of_reviews_ltm           22966 non-null  int64  \n",
      " 17  license                         75 non-null     object \n",
      "dtypes: float64(5), int64(7), object(6)\n",
      "memory usage: 3.2+ MB\n"
     ]
    }
   ],
   "source": [
    "df.info()"
   ]
  },
  {
   "cell_type": "code",
   "execution_count": 275,
   "id": "a5940131-8cbd-40cc-9fab-8720b4c694d5",
   "metadata": {},
   "outputs": [
    {
     "data": {
      "text/plain": [
       "Index(['id', 'name', 'host_id', 'host_name', 'neighbourhood_group',\n",
       "       'neighbourhood', 'latitude', 'longitude', 'room_type', 'price',\n",
       "       'minimum_nights', 'number_of_reviews', 'last_review',\n",
       "       'reviews_per_month', 'calculated_host_listings_count',\n",
       "       'availability_365', 'number_of_reviews_ltm', 'license'],\n",
       "      dtype='object')"
      ]
     },
     "execution_count": 275,
     "metadata": {},
     "output_type": "execute_result"
    }
   ],
   "source": [
    "df.columns"
   ]
  },
  {
   "cell_type": "markdown",
   "id": "558dcbbc-b370-446b-813c-6f844c2d7dcd",
   "metadata": {},
   "source": [
    "## 1. Data Preprocessing "
   ]
  },
  {
   "cell_type": "markdown",
   "id": "66bebe52-6852-4534-a5e5-eadc33aac612",
   "metadata": {},
   "source": [
    "### 1.1 Preprocessing: Name Column"
   ]
  },
  {
   "cell_type": "markdown",
   "id": "21c31f0c-ccf4-4d1e-a69e-dc7cbc8c032d",
   "metadata": {},
   "source": [
    "The first part of the preprocessing will involve the `name` column. We will split the data into five columns, namely:\n",
    "\n",
    "- `property type`\n",
    "- `rating`\n",
    "- `bedrooms`\n",
    "- `beds`\n",
    "- `baths`\n"
   ]
  },
  {
   "cell_type": "code",
   "execution_count": 276,
   "id": "d039ae8b-2d42-408e-81e5-08f6d92a2849",
   "metadata": {},
   "outputs": [],
   "source": [
    "# create property info dataframe\n",
    "\n",
    "df_prop_inf = pd.DataFrame()"
   ]
  },
  {
   "cell_type": "code",
   "execution_count": 277,
   "id": "2f651bb6-59f1-47ca-8f8f-c4abe618b803",
   "metadata": {},
   "outputs": [
    {
     "data": {
      "text/html": [
       "<div>\n",
       "<style scoped>\n",
       "    .dataframe tbody tr th:only-of-type {\n",
       "        vertical-align: middle;\n",
       "    }\n",
       "\n",
       "    .dataframe tbody tr th {\n",
       "        vertical-align: top;\n",
       "    }\n",
       "\n",
       "    .dataframe thead th {\n",
       "        text-align: right;\n",
       "    }\n",
       "</style>\n",
       "<table border=\"1\" class=\"dataframe\">\n",
       "  <thead>\n",
       "    <tr style=\"text-align: right;\">\n",
       "      <th></th>\n",
       "      <th>property_type</th>\n",
       "      <th>rating</th>\n",
       "      <th>no._of_bedrooms</th>\n",
       "      <th>no._of_beds</th>\n",
       "      <th>no._of_baths</th>\n",
       "    </tr>\n",
       "  </thead>\n",
       "  <tbody>\n",
       "    <tr>\n",
       "      <th>0</th>\n",
       "      <td>Home in Southern Suburbs</td>\n",
       "      <td>★4.81</td>\n",
       "      <td>1 bedroom</td>\n",
       "      <td>1 bed</td>\n",
       "      <td>1 bath</td>\n",
       "    </tr>\n",
       "    <tr>\n",
       "      <th>1</th>\n",
       "      <td>Home in Cape Town</td>\n",
       "      <td>★4.82</td>\n",
       "      <td>3 bedrooms</td>\n",
       "      <td>4 beds</td>\n",
       "      <td>3 baths</td>\n",
       "    </tr>\n",
       "    <tr>\n",
       "      <th>2</th>\n",
       "      <td>Rental unit in Cape Town</td>\n",
       "      <td>3 bedrooms</td>\n",
       "      <td>5 beds</td>\n",
       "      <td>2 baths</td>\n",
       "      <td>None</td>\n",
       "    </tr>\n",
       "    <tr>\n",
       "      <th>3</th>\n",
       "      <td>Rental unit in Tableview - Sunset Beach</td>\n",
       "      <td>★5.0</td>\n",
       "      <td>1 bedroom</td>\n",
       "      <td>2 beds</td>\n",
       "      <td>1.5 baths</td>\n",
       "    </tr>\n",
       "    <tr>\n",
       "      <th>4</th>\n",
       "      <td>Rental unit in Cape Town</td>\n",
       "      <td>1 bedroom</td>\n",
       "      <td>1 bed</td>\n",
       "      <td>1 bath</td>\n",
       "      <td>None</td>\n",
       "    </tr>\n",
       "  </tbody>\n",
       "</table>\n",
       "</div>"
      ],
      "text/plain": [
       "                             property_type      rating no._of_bedrooms  \\\n",
       "0                 Home in Southern Suburbs       ★4.81       1 bedroom   \n",
       "1                        Home in Cape Town       ★4.82      3 bedrooms   \n",
       "2                 Rental unit in Cape Town  3 bedrooms          5 beds   \n",
       "3  Rental unit in Tableview - Sunset Beach        ★5.0       1 bedroom   \n",
       "4                 Rental unit in Cape Town   1 bedroom           1 bed   \n",
       "\n",
       "  no._of_beds no._of_baths  \n",
       "0       1 bed       1 bath  \n",
       "1      4 beds      3 baths  \n",
       "2     2 baths         None  \n",
       "3      2 beds    1.5 baths  \n",
       "4      1 bath         None  "
      ]
     },
     "execution_count": 277,
     "metadata": {},
     "output_type": "execute_result"
    }
   ],
   "source": [
    "# split name column into five columns\n",
    "\n",
    "df_prop_inf[['property_type', 'rating', 'no._of_bedrooms', 'no._of_beds', 'no._of_baths']] = df['name'].str.split(' · ', expand=True)\n",
    "df_prop_inf.head()"
   ]
  },
  {
   "cell_type": "markdown",
   "id": "2b7ef5be-90ac-43b5-b82f-02f6b4977faa",
   "metadata": {},
   "source": [
    "### Work on Property Type column:"
   ]
  },
  {
   "cell_type": "code",
   "execution_count": 278,
   "id": "e010f398-47d7-4f92-9a03-413a67e2957d",
   "metadata": {},
   "outputs": [
    {
     "name": "stdout",
     "output_type": "stream",
     "text": [
      "Percentage of rows with 'in' in the 'property type' column: 100.0\n"
     ]
    }
   ],
   "source": [
    "# check if property type column only contains property type data \n",
    "\n",
    "percentage_with_in = (df_prop_inf['property_type'].str.contains('in').sum() / len(df_prop_inf)) * 100\n",
    "print(\"Percentage of rows with 'in' in the 'property type' column:\", percentage_with_in)"
   ]
  },
  {
   "cell_type": "code",
   "execution_count": 279,
   "id": "b2a03174-775c-45f8-b1fc-864876c9575b",
   "metadata": {},
   "outputs": [
    {
     "data": {
      "text/html": [
       "<div>\n",
       "<style scoped>\n",
       "    .dataframe tbody tr th:only-of-type {\n",
       "        vertical-align: middle;\n",
       "    }\n",
       "\n",
       "    .dataframe tbody tr th {\n",
       "        vertical-align: top;\n",
       "    }\n",
       "\n",
       "    .dataframe thead th {\n",
       "        text-align: right;\n",
       "    }\n",
       "</style>\n",
       "<table border=\"1\" class=\"dataframe\">\n",
       "  <thead>\n",
       "    <tr style=\"text-align: right;\">\n",
       "      <th></th>\n",
       "      <th>0</th>\n",
       "      <th>1</th>\n",
       "      <th>2</th>\n",
       "    </tr>\n",
       "  </thead>\n",
       "  <tbody>\n",
       "    <tr>\n",
       "      <th>0</th>\n",
       "      <td>Home</td>\n",
       "      <td>Southern Suburbs</td>\n",
       "      <td>None</td>\n",
       "    </tr>\n",
       "    <tr>\n",
       "      <th>1</th>\n",
       "      <td>Home</td>\n",
       "      <td>Cape Town</td>\n",
       "      <td>None</td>\n",
       "    </tr>\n",
       "  </tbody>\n",
       "</table>\n",
       "</div>"
      ],
      "text/plain": [
       "      0                 1     2\n",
       "0  Home  Southern Suburbs  None\n",
       "1  Home         Cape Town  None"
      ]
     },
     "execution_count": 279,
     "metadata": {},
     "output_type": "execute_result"
    }
   ],
   "source": [
    "# isolate property type column for further cleaning by splitting the property type and area\n",
    "\n",
    "df_prop_inf_clean = df_prop_inf['property_type'].str.split(' in ', expand=True)\n",
    "df_prop_inf_clean.head(2)"
   ]
  },
  {
   "cell_type": "code",
   "execution_count": 280,
   "id": "360ebf12-92b1-494a-811a-68af5d00a19b",
   "metadata": {
    "scrolled": true
   },
   "outputs": [
    {
     "data": {
      "text/html": [
       "<div>\n",
       "<style scoped>\n",
       "    .dataframe tbody tr th:only-of-type {\n",
       "        vertical-align: middle;\n",
       "    }\n",
       "\n",
       "    .dataframe tbody tr th {\n",
       "        vertical-align: top;\n",
       "    }\n",
       "\n",
       "    .dataframe thead th {\n",
       "        text-align: right;\n",
       "    }\n",
       "</style>\n",
       "<table border=\"1\" class=\"dataframe\">\n",
       "  <thead>\n",
       "    <tr style=\"text-align: right;\">\n",
       "      <th></th>\n",
       "      <th>0</th>\n",
       "      <th>1</th>\n",
       "      <th>2</th>\n",
       "    </tr>\n",
       "  </thead>\n",
       "  <tbody>\n",
       "    <tr>\n",
       "      <th>1920</th>\n",
       "      <td>Rental unit</td>\n",
       "      <td>Simon's Town</td>\n",
       "      <td>Cape Town</td>\n",
       "    </tr>\n",
       "  </tbody>\n",
       "</table>\n",
       "</div>"
      ],
      "text/plain": [
       "                0             1          2\n",
       "1920  Rental unit  Simon's Town  Cape Town"
      ]
     },
     "execution_count": 280,
     "metadata": {},
     "output_type": "execute_result"
    }
   ],
   "source": [
    "# check which row does not have null value because the 3rd column should not exist\n",
    "df_prop_inf_clean[df_prop_inf_clean.notna().all(axis=1)]"
   ]
  },
  {
   "cell_type": "code",
   "execution_count": 281,
   "id": "58e501a8-afdf-42bb-ae82-35bc8bd2600b",
   "metadata": {},
   "outputs": [
    {
     "name": "stdout",
     "output_type": "stream",
     "text": [
      "Series([], Name: count, dtype: int64)\n"
     ]
    }
   ],
   "source": [
    "# change all 3rd column values to None\n",
    "\n",
    "df_prop_inf_clean.loc[df_prop_inf_clean[2].notna(), 2] = None\n",
    "print(df_prop_inf_clean[2].value_counts())"
   ]
  },
  {
   "cell_type": "code",
   "execution_count": 282,
   "id": "12e76837-6427-46ad-92d1-d13cef009da3",
   "metadata": {},
   "outputs": [],
   "source": [
    "# drop third column\n",
    "\n",
    "df_prop_inf_clean = df_prop_inf_clean.drop(columns=[2])"
   ]
  },
  {
   "cell_type": "code",
   "execution_count": 283,
   "id": "49d074fe-bda2-498a-90b6-ed8537a7debb",
   "metadata": {},
   "outputs": [],
   "source": [
    "# change 2nd column values to 'Cape Town'\n",
    "\n",
    "df_prop_inf_clean[1] = 'Cape Town'"
   ]
  },
  {
   "cell_type": "code",
   "execution_count": 284,
   "id": "f3a629bc-101b-434f-a452-be4a51d13361",
   "metadata": {},
   "outputs": [
    {
     "data": {
      "text/html": [
       "<div>\n",
       "<style scoped>\n",
       "    .dataframe tbody tr th:only-of-type {\n",
       "        vertical-align: middle;\n",
       "    }\n",
       "\n",
       "    .dataframe tbody tr th {\n",
       "        vertical-align: top;\n",
       "    }\n",
       "\n",
       "    .dataframe thead th {\n",
       "        text-align: right;\n",
       "    }\n",
       "</style>\n",
       "<table border=\"1\" class=\"dataframe\">\n",
       "  <thead>\n",
       "    <tr style=\"text-align: right;\">\n",
       "      <th></th>\n",
       "      <th>property_type</th>\n",
       "      <th>city</th>\n",
       "    </tr>\n",
       "  </thead>\n",
       "  <tbody>\n",
       "    <tr>\n",
       "      <th>0</th>\n",
       "      <td>Home</td>\n",
       "      <td>Cape Town</td>\n",
       "    </tr>\n",
       "    <tr>\n",
       "      <th>1</th>\n",
       "      <td>Home</td>\n",
       "      <td>Cape Town</td>\n",
       "    </tr>\n",
       "  </tbody>\n",
       "</table>\n",
       "</div>"
      ],
      "text/plain": [
       "  property_type       city\n",
       "0          Home  Cape Town\n",
       "1          Home  Cape Town"
      ]
     },
     "execution_count": 284,
     "metadata": {},
     "output_type": "execute_result"
    }
   ],
   "source": [
    "# change column names\n",
    "\n",
    "df_prop_inf_clean.columns = ['property_type', 'city']\n",
    "df_prop_inf_clean.head(2)"
   ]
  },
  {
   "cell_type": "code",
   "execution_count": 285,
   "id": "cb25a9e7-75c2-4bb9-8bdf-6a5a3bc626c2",
   "metadata": {},
   "outputs": [],
   "source": [
    "# remove the first column from df\n",
    "\n",
    "df_prop_inf = df_prop_inf.iloc[:, 1:]"
   ]
  },
  {
   "cell_type": "code",
   "execution_count": 286,
   "id": "e89896ca-db32-4c52-b12c-b0eb0d424acd",
   "metadata": {},
   "outputs": [
    {
     "data": {
      "text/html": [
       "<div>\n",
       "<style scoped>\n",
       "    .dataframe tbody tr th:only-of-type {\n",
       "        vertical-align: middle;\n",
       "    }\n",
       "\n",
       "    .dataframe tbody tr th {\n",
       "        vertical-align: top;\n",
       "    }\n",
       "\n",
       "    .dataframe thead th {\n",
       "        text-align: right;\n",
       "    }\n",
       "</style>\n",
       "<table border=\"1\" class=\"dataframe\">\n",
       "  <thead>\n",
       "    <tr style=\"text-align: right;\">\n",
       "      <th></th>\n",
       "      <th>rating</th>\n",
       "      <th>no._of_bedrooms</th>\n",
       "      <th>no._of_beds</th>\n",
       "      <th>no._of_baths</th>\n",
       "      <th>property_type</th>\n",
       "      <th>city</th>\n",
       "    </tr>\n",
       "  </thead>\n",
       "  <tbody>\n",
       "    <tr>\n",
       "      <th>0</th>\n",
       "      <td>★4.81</td>\n",
       "      <td>1 bedroom</td>\n",
       "      <td>1 bed</td>\n",
       "      <td>1 bath</td>\n",
       "      <td>Home</td>\n",
       "      <td>Cape Town</td>\n",
       "    </tr>\n",
       "    <tr>\n",
       "      <th>1</th>\n",
       "      <td>★4.82</td>\n",
       "      <td>3 bedrooms</td>\n",
       "      <td>4 beds</td>\n",
       "      <td>3 baths</td>\n",
       "      <td>Home</td>\n",
       "      <td>Cape Town</td>\n",
       "    </tr>\n",
       "  </tbody>\n",
       "</table>\n",
       "</div>"
      ],
      "text/plain": [
       "  rating no._of_bedrooms no._of_beds no._of_baths property_type       city\n",
       "0  ★4.81       1 bedroom       1 bed       1 bath          Home  Cape Town\n",
       "1  ★4.82      3 bedrooms      4 beds      3 baths          Home  Cape Town"
      ]
     },
     "execution_count": 286,
     "metadata": {},
     "output_type": "execute_result"
    }
   ],
   "source": [
    "# add clean property type and city columns to property info df\n",
    "\n",
    "df_prop_inf['property_type'] = df_prop_inf_clean['property_type']\n",
    "df_prop_inf['city'] = df_prop_inf_clean['city']\n",
    "\n",
    "df_prop_inf.head(2)"
   ]
  },
  {
   "cell_type": "code",
   "execution_count": 287,
   "id": "c998c104-48cf-43ce-8538-306ca0bdacf8",
   "metadata": {
    "scrolled": true
   },
   "outputs": [],
   "source": [
    "df[['property_type', 'city']] = df_prop_inf[['property_type', 'city']]"
   ]
  },
  {
   "cell_type": "code",
   "execution_count": 288,
   "id": "99556a02-90d4-4849-a6b1-e68368779f28",
   "metadata": {},
   "outputs": [
    {
     "data": {
      "text/plain": [
       "Index(['id', 'name', 'host_id', 'host_name', 'neighbourhood_group',\n",
       "       'neighbourhood', 'latitude', 'longitude', 'room_type', 'price',\n",
       "       'minimum_nights', 'number_of_reviews', 'last_review',\n",
       "       'reviews_per_month', 'calculated_host_listings_count',\n",
       "       'availability_365', 'number_of_reviews_ltm', 'license', 'property_type',\n",
       "       'city'],\n",
       "      dtype='object')"
      ]
     },
     "execution_count": 288,
     "metadata": {},
     "output_type": "execute_result"
    }
   ],
   "source": [
    "df.columns"
   ]
  },
  {
   "cell_type": "markdown",
   "id": "b6de1048-7ba0-4747-89ed-b38512fc341f",
   "metadata": {},
   "source": [
    "\n",
    "The `property type` and `city` columns have been cleaned and added to the original DataFrame."
   ]
  },
  {
   "cell_type": "markdown",
   "id": "e7cee940-b1e1-4fbf-81be-83c065b7f72d",
   "metadata": {},
   "source": [
    "### Work on ratings column"
   ]
  },
  {
   "cell_type": "code",
   "execution_count": 289,
   "id": "8c22487d-9485-4f72-b18a-248a6ef71988",
   "metadata": {},
   "outputs": [],
   "source": [
    "# create ratings dataframe\n",
    "\n",
    "df_ratings = pd.DataFrame()"
   ]
  },
  {
   "cell_type": "code",
   "execution_count": 290,
   "id": "e44dbafb-b627-4588-a1ed-73dd0ee6b6ac",
   "metadata": {
    "scrolled": true
   },
   "outputs": [
    {
     "data": {
      "text/plain": [
       "0         ★4.81\n",
       "1         ★4.82\n",
       "2    3 bedrooms\n",
       "Name: rating, dtype: object"
      ]
     },
     "execution_count": 290,
     "metadata": {},
     "output_type": "execute_result"
    }
   ],
   "source": [
    "# populate with ratings column from original dataframe\n",
    "\n",
    "df_ratings = df_prop_inf['rating'].copy()\n",
    "df_ratings.head(3)"
   ]
  },
  {
   "cell_type": "code",
   "execution_count": 291,
   "id": "2010a16c-27a7-4565-b37b-470b846d3b9d",
   "metadata": {},
   "outputs": [
    {
     "name": "stdout",
     "output_type": "stream",
     "text": [
      "Number of 'No rating' values: 7288\n"
     ]
    }
   ],
   "source": [
    "#if the value does not contain a star, change it to No Rating\n",
    "\n",
    "df_ratings[df_ratings.str.contains('★') == False ] = 'No rating'\n",
    "value_counts = df_ratings.value_counts()\n",
    "no_rating_count = value_counts.get('No rating', 0)\n",
    "print(\"Number of 'No rating' values:\", no_rating_count)"
   ]
  },
  {
   "cell_type": "code",
   "execution_count": 292,
   "id": "bbd870e6-8dc6-43b8-9bcb-3986f1140ab4",
   "metadata": {},
   "outputs": [
    {
     "name": "stdout",
     "output_type": "stream",
     "text": [
      "Number of 'No rating' values: 9339\n"
     ]
    }
   ],
   "source": [
    "# if value contains the string New, change it to No Rating\n",
    "\n",
    "df_ratings[df_ratings.str.contains('New') == True ] = 'No rating'\n",
    "value_counts = df_ratings.value_counts()\n",
    "no_rating_count = value_counts.get('No rating', 0)\n",
    "print(\"Number of 'No rating' values:\", no_rating_count)"
   ]
  },
  {
   "cell_type": "code",
   "execution_count": 293,
   "id": "c445bf94-6512-45dd-bf3a-34c5802d05d8",
   "metadata": {},
   "outputs": [
    {
     "data": {
      "text/plain": [
       "0         4.81\n",
       "1         4.82\n",
       "2    No rating\n",
       "3          5.0\n",
       "4    No rating\n",
       "Name: rating, dtype: object"
      ]
     },
     "execution_count": 293,
     "metadata": {},
     "output_type": "execute_result"
    }
   ],
   "source": [
    "# remove the star\n",
    "\n",
    "df_ratings.loc[df_ratings.str.contains('.')] = df_ratings.str.replace('★', '')\n",
    "df_ratings.head()"
   ]
  },
  {
   "cell_type": "code",
   "execution_count": 294,
   "id": "3ae43877-9f7b-4c63-b012-051ba48858a8",
   "metadata": {},
   "outputs": [
    {
     "data": {
      "text/plain": [
       "0    4.81\n",
       "1    4.82\n",
       "2     NaN\n",
       "3     5.0\n",
       "4     NaN\n",
       "Name: rating, dtype: object"
      ]
     },
     "execution_count": 294,
     "metadata": {},
     "output_type": "execute_result"
    }
   ],
   "source": [
    "# replace No rating with NaN\n",
    "\n",
    "df_ratings.replace('No rating', np.nan, inplace=True)\n",
    "df_ratings.head()"
   ]
  },
  {
   "cell_type": "code",
   "execution_count": 295,
   "id": "5e3d3044-a19f-4eda-be50-5a8deba6cf7c",
   "metadata": {},
   "outputs": [
    {
     "name": "stdout",
     "output_type": "stream",
     "text": [
      "<class 'pandas.core.series.Series'>\n",
      "RangeIndex: 22966 entries, 0 to 22965\n",
      "Series name: rating\n",
      "Non-Null Count  Dtype  \n",
      "--------------  -----  \n",
      "13627 non-null  float64\n",
      "dtypes: float64(1)\n",
      "memory usage: 179.6 KB\n"
     ]
    }
   ],
   "source": [
    "# change series to float values\n",
    "\n",
    "df_ratings = df_ratings.astype(float)\n",
    "df_ratings.info()"
   ]
  },
  {
   "cell_type": "code",
   "execution_count": 296,
   "id": "c506e039-fa42-41ff-9b25-9f82603e4dfe",
   "metadata": {},
   "outputs": [],
   "source": [
    "# create rating column\n",
    "\n",
    "df['rating'] = df_ratings"
   ]
  },
  {
   "cell_type": "markdown",
   "id": "a9606e51-a9be-463d-972d-cd6d85aed66f",
   "metadata": {},
   "source": [
    "\n",
    "The `rating` column has been cleaned and added to the original DataFrame."
   ]
  },
  {
   "cell_type": "markdown",
   "id": "b6a7f7ef-b1d7-4497-9840-0072aec3259c",
   "metadata": {},
   "source": [
    "### Work on the bedroom column"
   ]
  },
  {
   "cell_type": "code",
   "execution_count": 297,
   "id": "3e6cebe9-3327-430a-8b5a-32e09a9a3f4b",
   "metadata": {},
   "outputs": [],
   "source": [
    "# create bedrooms dataframe\n",
    "\n",
    "df_bedrooms = pd.DataFrame()"
   ]
  },
  {
   "cell_type": "code",
   "execution_count": 298,
   "id": "475eb34d-a6ec-453d-8b1f-b3ed43e05e61",
   "metadata": {},
   "outputs": [
    {
     "data": {
      "text/html": [
       "<div>\n",
       "<style scoped>\n",
       "    .dataframe tbody tr th:only-of-type {\n",
       "        vertical-align: middle;\n",
       "    }\n",
       "\n",
       "    .dataframe tbody tr th {\n",
       "        vertical-align: top;\n",
       "    }\n",
       "\n",
       "    .dataframe thead th {\n",
       "        text-align: right;\n",
       "    }\n",
       "</style>\n",
       "<table border=\"1\" class=\"dataframe\">\n",
       "  <thead>\n",
       "    <tr style=\"text-align: right;\">\n",
       "      <th></th>\n",
       "      <th>rating</th>\n",
       "      <th>no._of_bedrooms</th>\n",
       "    </tr>\n",
       "  </thead>\n",
       "  <tbody>\n",
       "    <tr>\n",
       "      <th>0</th>\n",
       "      <td>★4.81</td>\n",
       "      <td>1 bedroom</td>\n",
       "    </tr>\n",
       "    <tr>\n",
       "      <th>1</th>\n",
       "      <td>★4.82</td>\n",
       "      <td>3 bedrooms</td>\n",
       "    </tr>\n",
       "    <tr>\n",
       "      <th>2</th>\n",
       "      <td>3 bedrooms</td>\n",
       "      <td>5 beds</td>\n",
       "    </tr>\n",
       "    <tr>\n",
       "      <th>3</th>\n",
       "      <td>★5.0</td>\n",
       "      <td>1 bedroom</td>\n",
       "    </tr>\n",
       "    <tr>\n",
       "      <th>4</th>\n",
       "      <td>1 bedroom</td>\n",
       "      <td>1 bed</td>\n",
       "    </tr>\n",
       "  </tbody>\n",
       "</table>\n",
       "</div>"
      ],
      "text/plain": [
       "       rating no._of_bedrooms\n",
       "0       ★4.81       1 bedroom\n",
       "1       ★4.82      3 bedrooms\n",
       "2  3 bedrooms          5 beds\n",
       "3        ★5.0       1 bedroom\n",
       "4   1 bedroom           1 bed"
      ]
     },
     "execution_count": 298,
     "metadata": {},
     "output_type": "execute_result"
    }
   ],
   "source": [
    "# create copy of dataframe\n",
    "\n",
    "df_bedrooms = df_prop_inf[['rating', 'no._of_bedrooms']].copy()\n",
    "df_bedrooms.head()"
   ]
  },
  {
   "cell_type": "code",
   "execution_count": 299,
   "id": "a280b7ff-75e6-4e8f-9891-9fa301fb1517",
   "metadata": {},
   "outputs": [],
   "source": [
    "# define a custom function to assign values to the 'bedrooms' column based on the 'rating' column\n",
    "\n",
    "def assign_bedrooms(row):\n",
    "    if 'bedroom' in row['rating']:\n",
    "        return row['rating']\n",
    "    else:\n",
    "        return row['no._of_bedrooms']\n",
    "\n",
    "# apply the custom function to each row of the DataFrame\n",
    "\n",
    "df_bedrooms['no._of_bedrooms'] = df_bedrooms.apply(assign_bedrooms, axis=1)"
   ]
  },
  {
   "cell_type": "code",
   "execution_count": 300,
   "id": "c5c3de05-da65-46ab-9759-a7c979057d1a",
   "metadata": {},
   "outputs": [
    {
     "data": {
      "text/plain": [
       "0        1.0\n",
       "1        3.0\n",
       "2        3.0\n",
       "3        1.0\n",
       "4        1.0\n",
       "        ... \n",
       "22961    2.0\n",
       "22962    1.0\n",
       "22963    1.0\n",
       "22964    1.0\n",
       "22965    1.0\n",
       "Name: no._of_bedrooms, Length: 22966, dtype: float64"
      ]
     },
     "execution_count": 300,
     "metadata": {},
     "output_type": "execute_result"
    }
   ],
   "source": [
    "# extract integers from the 'bedrooms' column and convert to float\n",
    "\n",
    "df_bedrooms['no._of_bedrooms'] = df_bedrooms['no._of_bedrooms'].str.extract(r'(\\d+)').astype(float)\n",
    "df_bedrooms['no._of_bedrooms']"
   ]
  },
  {
   "cell_type": "code",
   "execution_count": 301,
   "id": "4bd7f762-015c-4d50-98fb-feef30aaea1b",
   "metadata": {},
   "outputs": [],
   "source": [
    "# create rating column in original dateframe\n",
    "\n",
    "df['no._of_bedrooms'] = df_bedrooms['no._of_bedrooms']"
   ]
  },
  {
   "cell_type": "markdown",
   "id": "2de15d74-e74d-44e9-9a67-dfb8b8299267",
   "metadata": {},
   "source": [
    "\n",
    "The `bedrooms` column has been cleaned and added to the original DataFrame."
   ]
  },
  {
   "cell_type": "markdown",
   "id": "6c523bfe-3fff-48b6-9538-c8c03e065c86",
   "metadata": {},
   "source": [
    "### Working on beds column"
   ]
  },
  {
   "cell_type": "code",
   "execution_count": 302,
   "id": "f45ef01d-1918-4a18-ad8a-f0f41693ef62",
   "metadata": {},
   "outputs": [],
   "source": [
    "# create beds dataframe\n",
    "\n",
    "df_beds = pd.DataFrame()"
   ]
  },
  {
   "cell_type": "code",
   "execution_count": 303,
   "id": "4716265c-f825-4c6a-a407-2d7c5849bdb7",
   "metadata": {},
   "outputs": [
    {
     "data": {
      "text/html": [
       "<div>\n",
       "<style scoped>\n",
       "    .dataframe tbody tr th:only-of-type {\n",
       "        vertical-align: middle;\n",
       "    }\n",
       "\n",
       "    .dataframe tbody tr th {\n",
       "        vertical-align: top;\n",
       "    }\n",
       "\n",
       "    .dataframe thead th {\n",
       "        text-align: right;\n",
       "    }\n",
       "</style>\n",
       "<table border=\"1\" class=\"dataframe\">\n",
       "  <thead>\n",
       "    <tr style=\"text-align: right;\">\n",
       "      <th></th>\n",
       "      <th>no._of_bedrooms</th>\n",
       "      <th>no._of_beds</th>\n",
       "    </tr>\n",
       "  </thead>\n",
       "  <tbody>\n",
       "    <tr>\n",
       "      <th>0</th>\n",
       "      <td>1 bedroom</td>\n",
       "      <td>1 bed</td>\n",
       "    </tr>\n",
       "    <tr>\n",
       "      <th>1</th>\n",
       "      <td>3 bedrooms</td>\n",
       "      <td>4 beds</td>\n",
       "    </tr>\n",
       "    <tr>\n",
       "      <th>2</th>\n",
       "      <td>5 beds</td>\n",
       "      <td>2 baths</td>\n",
       "    </tr>\n",
       "    <tr>\n",
       "      <th>3</th>\n",
       "      <td>1 bedroom</td>\n",
       "      <td>2 beds</td>\n",
       "    </tr>\n",
       "    <tr>\n",
       "      <th>4</th>\n",
       "      <td>1 bed</td>\n",
       "      <td>1 bath</td>\n",
       "    </tr>\n",
       "  </tbody>\n",
       "</table>\n",
       "</div>"
      ],
      "text/plain": [
       "  no._of_bedrooms no._of_beds\n",
       "0       1 bedroom       1 bed\n",
       "1      3 bedrooms      4 beds\n",
       "2          5 beds     2 baths\n",
       "3       1 bedroom      2 beds\n",
       "4           1 bed      1 bath"
      ]
     },
     "execution_count": 303,
     "metadata": {},
     "output_type": "execute_result"
    }
   ],
   "source": [
    "# use bedroom and beds columns\n",
    "\n",
    "df_bed = df_prop_inf[['no._of_bedrooms', 'no._of_beds']].copy()\n",
    "df_bed.head()"
   ]
  },
  {
   "cell_type": "code",
   "execution_count": 304,
   "id": "790d07ba-fe90-4b75-9cf6-51fdcaab4875",
   "metadata": {},
   "outputs": [],
   "source": [
    "pattern = r'\\b\\d+\\s+(?!bedrooms?\\b)(?:beds?)\\b'\n",
    "\n",
    "# define a function to update the 'beds' column based on the pattern\n",
    "def update_column(row):\n",
    "    bedrooms_value = row['no._of_bedrooms']\n",
    "    if bedrooms_value is None:\n",
    "        return row['no._of_beds']\n",
    "    elif re.findall(pattern, bedrooms_value):\n",
    "        return bedrooms_value\n",
    "    else:\n",
    "        return row['no._of_beds']\n",
    "\n",
    "# apply the update_column function to each row of the DataFrame 'df_bed'\n",
    "df_bed['no._of_beds'] = df_bed.apply(update_column, axis=1)\n"
   ]
  },
  {
   "cell_type": "code",
   "execution_count": 305,
   "id": "78d0c0f3-832e-4848-93af-70008c61dfda",
   "metadata": {},
   "outputs": [
    {
     "name": "stdout",
     "output_type": "stream",
     "text": [
      "Total occurrences of 'bedroom' in 'beds' column: 0\n"
     ]
    }
   ],
   "source": [
    "total_bedroom_occurrences = df_bed['no._of_beds'].str.contains('no._of_beds').sum()\n",
    "print(\"Total occurrences of 'bedroom' in 'beds' column:\", total_bedroom_occurrences)"
   ]
  },
  {
   "cell_type": "code",
   "execution_count": 306,
   "id": "3ae48a85-86a3-42bc-8bcc-32eee8ee142f",
   "metadata": {},
   "outputs": [
    {
     "data": {
      "text/plain": [
       "Index(['no._of_bedrooms', 'no._of_beds'], dtype='object')"
      ]
     },
     "execution_count": 306,
     "metadata": {},
     "output_type": "execute_result"
    }
   ],
   "source": [
    "df_bed.columns"
   ]
  },
  {
   "cell_type": "code",
   "execution_count": 307,
   "id": "22a64fa3-6296-48a3-9c54-628b0f742f47",
   "metadata": {},
   "outputs": [
    {
     "data": {
      "text/plain": [
       "0         1.0\n",
       "1         4.0\n",
       "2         5.0\n",
       "3         2.0\n",
       "4         1.0\n",
       "         ... \n",
       "22961     2.0\n",
       "22962     1.0\n",
       "22963     1.0\n",
       "22964    19.0\n",
       "22965     1.0\n",
       "Name: no._of_beds, Length: 22966, dtype: float64"
      ]
     },
     "execution_count": 307,
     "metadata": {},
     "output_type": "execute_result"
    }
   ],
   "source": [
    "# extract integers from the 'beds' column and convert to float\n",
    "\n",
    "df_bed['no._of_beds'] = df_bed['no._of_beds'].str.extract(r'(\\d+)').astype(float)\n",
    "df_bed['no._of_beds']"
   ]
  },
  {
   "cell_type": "code",
   "execution_count": 308,
   "id": "8b59a7f6-e9ec-4550-912a-bd0bbc30f2ee",
   "metadata": {},
   "outputs": [],
   "source": [
    "#create beds column in original dataframe\n",
    "\n",
    "df['no._of_beds'] = df_bed['no._of_beds']"
   ]
  },
  {
   "cell_type": "markdown",
   "id": "963c3edc-cf6f-4162-b87c-c3aa081f6147",
   "metadata": {},
   "source": [
    "\n",
    "The `beds` column has been cleaned and added to the original DataFrame."
   ]
  },
  {
   "cell_type": "markdown",
   "id": "cc19b9b7-f2c1-4cac-9b76-24fe24c71bab",
   "metadata": {},
   "source": [
    "### Work on baths column"
   ]
  },
  {
   "cell_type": "code",
   "execution_count": 309,
   "id": "89bc6bf0-a467-4b2a-bd3f-1ae35b8d10ef",
   "metadata": {},
   "outputs": [],
   "source": [
    "# create empty dataframe\n",
    "df_baths = pd.DataFrame()"
   ]
  },
  {
   "cell_type": "code",
   "execution_count": 310,
   "id": "fdac44e3-b551-4a3b-a0b6-5507f4711302",
   "metadata": {},
   "outputs": [
    {
     "data": {
      "text/html": [
       "<div>\n",
       "<style scoped>\n",
       "    .dataframe tbody tr th:only-of-type {\n",
       "        vertical-align: middle;\n",
       "    }\n",
       "\n",
       "    .dataframe tbody tr th {\n",
       "        vertical-align: top;\n",
       "    }\n",
       "\n",
       "    .dataframe thead th {\n",
       "        text-align: right;\n",
       "    }\n",
       "</style>\n",
       "<table border=\"1\" class=\"dataframe\">\n",
       "  <thead>\n",
       "    <tr style=\"text-align: right;\">\n",
       "      <th></th>\n",
       "      <th>no._of_beds</th>\n",
       "      <th>no._of_baths</th>\n",
       "    </tr>\n",
       "  </thead>\n",
       "  <tbody>\n",
       "    <tr>\n",
       "      <th>0</th>\n",
       "      <td>1 bed</td>\n",
       "      <td>1 bath</td>\n",
       "    </tr>\n",
       "    <tr>\n",
       "      <th>1</th>\n",
       "      <td>4 beds</td>\n",
       "      <td>3 baths</td>\n",
       "    </tr>\n",
       "    <tr>\n",
       "      <th>2</th>\n",
       "      <td>2 baths</td>\n",
       "      <td>None</td>\n",
       "    </tr>\n",
       "    <tr>\n",
       "      <th>3</th>\n",
       "      <td>2 beds</td>\n",
       "      <td>1.5 baths</td>\n",
       "    </tr>\n",
       "    <tr>\n",
       "      <th>4</th>\n",
       "      <td>1 bath</td>\n",
       "      <td>None</td>\n",
       "    </tr>\n",
       "  </tbody>\n",
       "</table>\n",
       "</div>"
      ],
      "text/plain": [
       "  no._of_beds no._of_baths\n",
       "0       1 bed       1 bath\n",
       "1      4 beds      3 baths\n",
       "2     2 baths         None\n",
       "3      2 beds    1.5 baths\n",
       "4      1 bath         None"
      ]
     },
     "execution_count": 310,
     "metadata": {},
     "output_type": "execute_result"
    }
   ],
   "source": [
    "#use beds and bath columns and check dataframe\n",
    "\n",
    "df_baths = df_prop_inf[['no._of_beds', 'no._of_baths']].copy()\n",
    "df_baths.head()"
   ]
  },
  {
   "cell_type": "code",
   "execution_count": 311,
   "id": "ea3c6e6c-cf1c-4f99-aaad-d232fac86dff",
   "metadata": {},
   "outputs": [],
   "source": [
    "# define a function to update the 'baths' column based on the string values\n",
    "\n",
    "def assign_baths(row):\n",
    "    beds_value = row['no._of_beds']\n",
    "    if beds_value is not None and 'bath' in beds_value:\n",
    "        return beds_value\n",
    "    else:\n",
    "        return row['no._of_baths']\n",
    "\n",
    "# apply the custom function to each row of the DataFrame\n",
    "df_baths['no._of_baths'] = df_baths.apply(assign_baths, axis=1)\n"
   ]
  },
  {
   "cell_type": "code",
   "execution_count": 312,
   "id": "76bdd460-b205-4789-9c3e-052d1ddc6d6f",
   "metadata": {},
   "outputs": [
    {
     "name": "stdout",
     "output_type": "stream",
     "text": [
      "Total occurrences of 'bath' in 'baths' column: 22781\n",
      "Percentage of occurrences of 'bath' out of all the rows: 99.19446137768875\n",
      "Total occurrences without 'bath' in 'baths' column: -2379\n"
     ]
    }
   ],
   "source": [
    "# calculate the total occurrences of 'bath' and without 'bath' in the 'baths' column\n",
    "total_baths_occurrences = df_baths['no._of_baths'].str.contains('bath').sum()\n",
    "total_occurrences_without_bath = total_rows - total_baths_occurrences\n",
    "\n",
    "# calculate the total number of rows in the DataFrame\n",
    "total_rows = len(df_baths)\n",
    "\n",
    "# calculate the percentage of occurrences of 'bath' out of all the rows\n",
    "percentage_baths_occurrences = (total_baths_occurrences / total_rows) * 100\n",
    "\n",
    "# print the results\n",
    "print(\"Total occurrences of 'bath' in 'baths' column:\", total_baths_occurrences)\n",
    "print(\"Percentage of occurrences of 'bath' out of all the rows:\", percentage_baths_occurrences)\n",
    "print(\"Total occurrences without 'bath' in 'baths' column:\", total_occurrences_without_bath)\n"
   ]
  },
  {
   "cell_type": "code",
   "execution_count": 313,
   "id": "498600de-df6c-43a6-9d69-9438a58fc8c6",
   "metadata": {},
   "outputs": [
    {
     "data": {
      "text/plain": [
       "0         1.0\n",
       "1         3.0\n",
       "2         2.0\n",
       "3         1.0\n",
       "4         1.0\n",
       "         ... \n",
       "22961     1.0\n",
       "22962     1.0\n",
       "22963     1.0\n",
       "22964    15.0\n",
       "22965     1.0\n",
       "Name: no._of_baths, Length: 22966, dtype: float64"
      ]
     },
     "execution_count": 313,
     "metadata": {},
     "output_type": "execute_result"
    }
   ],
   "source": [
    "# extract integers from the 'beds' column and convert to float\n",
    "\n",
    "df_baths['no._of_baths'] = df_baths['no._of_baths'].str.extract(r'(\\d+)').astype(float)\n",
    "df_baths['no._of_baths']"
   ]
  },
  {
   "cell_type": "code",
   "execution_count": 314,
   "id": "9c8abced-53bc-4e2a-9113-1256c5681159",
   "metadata": {},
   "outputs": [
    {
     "data": {
      "text/plain": [
       "0    1.0\n",
       "1    3.0\n",
       "2    2.0\n",
       "3    1.0\n",
       "4    1.0\n",
       "Name: no._of_baths, dtype: float64"
      ]
     },
     "execution_count": 314,
     "metadata": {},
     "output_type": "execute_result"
    }
   ],
   "source": [
    "# create baths column in original data frame\n",
    "\n",
    "df['no._of_baths'] = df_baths['no._of_baths']\n",
    "df['no._of_baths'].head()"
   ]
  },
  {
   "cell_type": "markdown",
   "id": "211ba74b-87f3-461c-8561-dedb8f46de09",
   "metadata": {},
   "source": [
    "\n",
    "The `baths` column has been cleaned and added to the original DataFrame."
   ]
  },
  {
   "cell_type": "markdown",
   "id": "58324a84-82d2-46ef-9481-a8a21cbfbef8",
   "metadata": {},
   "source": [
    "### 1.2 Preprocessing: Missing values"
   ]
  },
  {
   "cell_type": "code",
   "execution_count": 315,
   "id": "db3f7cc6-3e25-48f6-bcba-ac13c2d2dc39",
   "metadata": {},
   "outputs": [
    {
     "data": {
      "text/html": [
       "<div>\n",
       "<style scoped>\n",
       "    .dataframe tbody tr th:only-of-type {\n",
       "        vertical-align: middle;\n",
       "    }\n",
       "\n",
       "    .dataframe tbody tr th {\n",
       "        vertical-align: top;\n",
       "    }\n",
       "\n",
       "    .dataframe thead th {\n",
       "        text-align: right;\n",
       "    }\n",
       "</style>\n",
       "<table border=\"1\" class=\"dataframe\">\n",
       "  <thead>\n",
       "    <tr style=\"text-align: right;\">\n",
       "      <th></th>\n",
       "      <th>Number of Null Values</th>\n",
       "      <th>Percentage of Null Values</th>\n",
       "    </tr>\n",
       "  </thead>\n",
       "  <tbody>\n",
       "    <tr>\n",
       "      <th>neighbourhood_group</th>\n",
       "      <td>22966</td>\n",
       "      <td>100.000000</td>\n",
       "    </tr>\n",
       "    <tr>\n",
       "      <th>license</th>\n",
       "      <td>22891</td>\n",
       "      <td>99.673430</td>\n",
       "    </tr>\n",
       "    <tr>\n",
       "      <th>rating</th>\n",
       "      <td>9339</td>\n",
       "      <td>40.664461</td>\n",
       "    </tr>\n",
       "    <tr>\n",
       "      <th>last_review</th>\n",
       "      <td>5764</td>\n",
       "      <td>25.097971</td>\n",
       "    </tr>\n",
       "    <tr>\n",
       "      <th>reviews_per_month</th>\n",
       "      <td>5764</td>\n",
       "      <td>25.097971</td>\n",
       "    </tr>\n",
       "    <tr>\n",
       "      <th>price</th>\n",
       "      <td>1392</td>\n",
       "      <td>6.061134</td>\n",
       "    </tr>\n",
       "    <tr>\n",
       "      <th>no._of_bedrooms</th>\n",
       "      <td>968</td>\n",
       "      <td>4.214926</td>\n",
       "    </tr>\n",
       "    <tr>\n",
       "      <th>no._of_baths</th>\n",
       "      <td>284</td>\n",
       "      <td>1.236611</td>\n",
       "    </tr>\n",
       "    <tr>\n",
       "      <th>no._of_beds</th>\n",
       "      <td>153</td>\n",
       "      <td>0.666202</td>\n",
       "    </tr>\n",
       "    <tr>\n",
       "      <th>host_name</th>\n",
       "      <td>4</td>\n",
       "      <td>0.017417</td>\n",
       "    </tr>\n",
       "  </tbody>\n",
       "</table>\n",
       "</div>"
      ],
      "text/plain": [
       "                     Number of Null Values  Percentage of Null Values\n",
       "neighbourhood_group                  22966                 100.000000\n",
       "license                              22891                  99.673430\n",
       "rating                                9339                  40.664461\n",
       "last_review                           5764                  25.097971\n",
       "reviews_per_month                     5764                  25.097971\n",
       "price                                 1392                   6.061134\n",
       "no._of_bedrooms                        968                   4.214926\n",
       "no._of_baths                           284                   1.236611\n",
       "no._of_beds                            153                   0.666202\n",
       "host_name                                4                   0.017417"
      ]
     },
     "execution_count": 315,
     "metadata": {},
     "output_type": "execute_result"
    }
   ],
   "source": [
    "# Count the number of null rows\n",
    "\n",
    "null_counts = df.isnull().sum()\n",
    "total_rows = len(df)\n",
    "null_percentage = (null_counts / total_rows) * 100\n",
    "null_info = pd.DataFrame({\n",
    "    'Number of Null Values': null_counts,\n",
    "    'Percentage of Null Values': null_percentage\n",
    "})\n",
    "\n",
    "null_info[null_info['Number of Null Values'] > 0].sort_values(by='Percentage of Null Values', ascending=False)"
   ]
  },
  {
   "cell_type": "markdown",
   "id": "cb0a16a2-fb27-4c31-816e-ef7a5348c946",
   "metadata": {},
   "source": [
    "### Work on Neighbourhood Group column"
   ]
  },
  {
   "cell_type": "code",
   "execution_count": 316,
   "id": "a4c36c94-91be-44ee-917a-068272afc4f9",
   "metadata": {},
   "outputs": [],
   "source": [
    "# drop column\n",
    "\n",
    "df.drop(columns=['neighbourhood_group'], inplace=True)"
   ]
  },
  {
   "cell_type": "markdown",
   "id": "b6542a1e-be9e-46dc-b2c3-b1026fbcb86b",
   "metadata": {},
   "source": [
    "### Work on License column"
   ]
  },
  {
   "cell_type": "code",
   "execution_count": 317,
   "id": "75a68087-1672-4b64-9c66-bcd65b54c0ad",
   "metadata": {},
   "outputs": [],
   "source": [
    "# drop column\n",
    "\n",
    "df.drop(columns=['license'], inplace=True)"
   ]
  },
  {
   "cell_type": "markdown",
   "id": "e060a5f2-23a8-4918-90f5-50c1b7da8539",
   "metadata": {},
   "source": [
    "### Work on Price column"
   ]
  },
  {
   "cell_type": "code",
   "execution_count": 318,
   "id": "bc4f58eb-c524-4013-9a03-83bbd634aaf4",
   "metadata": {},
   "outputs": [
    {
     "data": {
      "text/plain": [
       "price\n",
       "1500.0     373\n",
       "1200.0     311\n",
       "2500.0     294\n",
       "2000.0     286\n",
       "3000.0     266\n",
       "          ... \n",
       "7523.0       1\n",
       "412.0        1\n",
       "13236.0      1\n",
       "28750.0      1\n",
       "805.0        1\n",
       "Name: count, Length: 4824, dtype: int64"
      ]
     },
     "execution_count": 318,
     "metadata": {},
     "output_type": "execute_result"
    }
   ],
   "source": [
    "df['price'].value_counts()"
   ]
  },
  {
   "cell_type": "code",
   "execution_count": 319,
   "id": "e3baca68-a6b2-462a-bcc0-12609bc7644b",
   "metadata": {},
   "outputs": [
    {
     "name": "stdout",
     "output_type": "stream",
     "text": [
      "Before removing rows with null values in price column there are 22966 rows\n",
      "After removing rows with null values in price column there are 21574 rows\n"
     ]
    }
   ],
   "source": [
    "# print the shape of the DataFrame before and after removing rows with null values in the price column\n",
    "\n",
    "print(\"Before removing rows with null values in price column there are\", df.shape[0], \"rows\")\n",
    "df.dropna(subset=['price'], inplace=True)\n",
    "print(\"After removing rows with null values in price column there are\", df.shape[0], \"rows\")\n"
   ]
  },
  {
   "cell_type": "markdown",
   "id": "ade55fd4-e0c4-4044-9fe6-2ec387e8f6c8",
   "metadata": {},
   "source": [
    "### Work on bedrooms, baths & beds columns"
   ]
  },
  {
   "cell_type": "code",
   "execution_count": 320,
   "id": "3bf8558f-b618-4bbb-aa7d-393c2d99af99",
   "metadata": {},
   "outputs": [],
   "source": [
    "df.dropna(subset=['no._of_bedrooms', 'no._of_baths', 'no._of_beds', 'host_name'], inplace=True)"
   ]
  },
  {
   "cell_type": "code",
   "execution_count": 321,
   "id": "45006b2e-b814-45bc-a35b-5e47996d0d08",
   "metadata": {},
   "outputs": [
    {
     "data": {
      "text/html": [
       "<div>\n",
       "<style scoped>\n",
       "    .dataframe tbody tr th:only-of-type {\n",
       "        vertical-align: middle;\n",
       "    }\n",
       "\n",
       "    .dataframe tbody tr th {\n",
       "        vertical-align: top;\n",
       "    }\n",
       "\n",
       "    .dataframe thead th {\n",
       "        text-align: right;\n",
       "    }\n",
       "</style>\n",
       "<table border=\"1\" class=\"dataframe\">\n",
       "  <thead>\n",
       "    <tr style=\"text-align: right;\">\n",
       "      <th></th>\n",
       "      <th>Number of Null Values</th>\n",
       "      <th>Percentage of Null Values</th>\n",
       "    </tr>\n",
       "  </thead>\n",
       "  <tbody>\n",
       "    <tr>\n",
       "      <th>rating</th>\n",
       "      <td>8348</td>\n",
       "      <td>40.925581</td>\n",
       "    </tr>\n",
       "    <tr>\n",
       "      <th>last_review</th>\n",
       "      <td>5119</td>\n",
       "      <td>25.095598</td>\n",
       "    </tr>\n",
       "    <tr>\n",
       "      <th>reviews_per_month</th>\n",
       "      <td>5119</td>\n",
       "      <td>25.095598</td>\n",
       "    </tr>\n",
       "  </tbody>\n",
       "</table>\n",
       "</div>"
      ],
      "text/plain": [
       "                   Number of Null Values  Percentage of Null Values\n",
       "rating                              8348                  40.925581\n",
       "last_review                         5119                  25.095598\n",
       "reviews_per_month                   5119                  25.095598"
      ]
     },
     "execution_count": 321,
     "metadata": {},
     "output_type": "execute_result"
    }
   ],
   "source": [
    "# Count the number of null rows\n",
    "\n",
    "null_counts = df.isnull().sum()\n",
    "total_rows = len(df)\n",
    "null_percentage = (null_counts / total_rows) * 100\n",
    "null_info = pd.DataFrame({\n",
    "    'Number of Null Values': null_counts,\n",
    "    'Percentage of Null Values': null_percentage\n",
    "})\n",
    "\n",
    "null_info[null_info['Number of Null Values'] > 0].sort_values(by='Percentage of Null Values', ascending=False)"
   ]
  },
  {
   "cell_type": "code",
   "execution_count": 322,
   "id": "a362953d-0844-4406-bae4-4f90ff72948f",
   "metadata": {},
   "outputs": [
    {
     "data": {
      "text/plain": [
       "(20398, 22)"
      ]
     },
     "execution_count": 322,
     "metadata": {},
     "output_type": "execute_result"
    }
   ],
   "source": [
    "df.shape"
   ]
  },
  {
   "cell_type": "markdown",
   "id": "8c0d8fcd-e787-4423-88c1-235a508a75fa",
   "metadata": {},
   "source": [
    "#### Missing values summary:\n",
    "\n",
    "- The `neighbourhood_group` and `license` columns were removed completely\n",
    "- Rows that had missing values in either the `price`, `no._of_bedrooms`, `no._of_baths` or `no._of_beds` columns were removed"
   ]
  },
  {
   "cell_type": "markdown",
   "id": "d45e295c-2c6b-491e-8404-83de5e8bdeaf",
   "metadata": {},
   "source": [
    "### 1.3 Preprocessing: Duplicate values"
   ]
  },
  {
   "cell_type": "code",
   "execution_count": 323,
   "id": "8e5a9908-98e2-44d3-812b-ae3e2604d185",
   "metadata": {},
   "outputs": [
    {
     "data": {
      "text/html": [
       "<div>\n",
       "<style scoped>\n",
       "    .dataframe tbody tr th:only-of-type {\n",
       "        vertical-align: middle;\n",
       "    }\n",
       "\n",
       "    .dataframe tbody tr th {\n",
       "        vertical-align: top;\n",
       "    }\n",
       "\n",
       "    .dataframe thead th {\n",
       "        text-align: right;\n",
       "    }\n",
       "</style>\n",
       "<table border=\"1\" class=\"dataframe\">\n",
       "  <thead>\n",
       "    <tr style=\"text-align: right;\">\n",
       "      <th></th>\n",
       "      <th>Number of Duplicated Rows</th>\n",
       "      <th>Percentage of Duplicated Rows</th>\n",
       "    </tr>\n",
       "  </thead>\n",
       "  <tbody>\n",
       "    <tr>\n",
       "      <th>0</th>\n",
       "      <td>0</td>\n",
       "      <td>0.0</td>\n",
       "    </tr>\n",
       "  </tbody>\n",
       "</table>\n",
       "</div>"
      ],
      "text/plain": [
       "   Number of Duplicated Rows  Percentage of Duplicated Rows\n",
       "0                          0                            0.0"
      ]
     },
     "execution_count": 323,
     "metadata": {},
     "output_type": "execute_result"
    }
   ],
   "source": [
    "# Count the number of duplicated rows\n",
    "num_duplicates = df.duplicated().sum()\n",
    "total_rows = len(df)\n",
    "duplicates_percentage = (num_duplicates / total_rows) * 100\n",
    "duplicates_info = pd.DataFrame({\n",
    "    'Number of Duplicated Rows': [num_duplicates],\n",
    "    'Percentage of Duplicated Rows': [duplicates_percentage]\n",
    "})\n",
    "\n",
    "duplicates_info\n"
   ]
  },
  {
   "cell_type": "markdown",
   "id": "b22e86f4-8b6f-442e-aa11-01ae9d3a156e",
   "metadata": {},
   "source": [
    "#### Duplicate values summary:\n",
    "\n",
    "- There are no duplicates within the dataset"
   ]
  },
  {
   "cell_type": "markdown",
   "id": "9327c652-944a-4ecd-915c-4bebf2271221",
   "metadata": {},
   "source": [
    "### Work on host name"
   ]
  },
  {
   "cell_type": "code",
   "execution_count": 337,
   "id": "588f94f7-7f45-4e71-b243-853cea6d621d",
   "metadata": {},
   "outputs": [
    {
     "name": "stdout",
     "output_type": "stream",
     "text": [
      "Host names with multiple host IDs:\n",
      "host_name\n",
      "Propr       327\n",
      "Michelle     63\n",
      "Michael      59\n",
      "David        52\n",
      "James        47\n",
      "           ... \n",
      "Junaid        2\n",
      "Karlien       2\n",
      "Abe           2\n",
      "Kath          2\n",
      "Zuzana        2\n",
      "Name: host_id, Length: 1269, dtype: int64\n"
     ]
    }
   ],
   "source": [
    "host_name_counts = df.groupby('host_name')['host_id'].nunique()\n",
    "duplicate_host_names = host_name_counts[host_name_counts > 1]\n",
    "\n",
    "print(\"Host names with multiple host IDs:\")\n",
    "print(duplicate_host_names.sort_values(ascending=False))"
   ]
  },
  {
   "cell_type": "code",
   "execution_count": null,
   "id": "298e2b0c-f751-4638-877f-4de56d9b9e91",
   "metadata": {},
   "outputs": [],
   "source": []
  }
 ],
 "metadata": {
  "kernelspec": {
   "display_name": "Python 3 (ipykernel)",
   "language": "python",
   "name": "python3"
  },
  "language_info": {
   "codemirror_mode": {
    "name": "ipython",
    "version": 3
   },
   "file_extension": ".py",
   "mimetype": "text/x-python",
   "name": "python",
   "nbconvert_exporter": "python",
   "pygments_lexer": "ipython3",
   "version": "3.11.5"
  }
 },
 "nbformat": 4,
 "nbformat_minor": 5
}
